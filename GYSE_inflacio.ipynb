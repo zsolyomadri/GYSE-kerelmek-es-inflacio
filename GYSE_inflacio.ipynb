{
 "cells": [
  {
   "cell_type": "markdown",
   "metadata": {
    "id": "XheJmaKNS9Lo"
   },
   "source": [
    "# A gyógyászati segédeszközök társadalombiztosítási kérelmei és az infláció közötti összefüggések vizsgálata"
   ]
  },
  {
   "cell_type": "markdown",
   "metadata": {},
   "source": [
    "# Könyvtárak importálása"
   ]
  },
  {
   "cell_type": "code",
   "execution_count": 1,
   "metadata": {
    "id": "yMGgcayfSaC4"
   },
   "outputs": [],
   "source": [
    "import requests\n",
    "import pandas as pd\n",
    "from bs4 import BeautifulSoup\n",
    "import re\n",
    "import json\n",
    "import openai\n",
    "from io import StringIO\n",
    "from getpass import getpass\n",
    "import os\n",
    "import matplotlib.pyplot as plt\n",
    "import plotly.express as px\n",
    "import plotly.graph_objects as go"
   ]
  },
  {
   "cell_type": "code",
   "execution_count": 2,
   "metadata": {},
   "outputs": [
    {
     "name": "stdin",
     "output_type": "stream",
     "text": [
      "OpenAI API kulcs:  ········\n"
     ]
    }
   ],
   "source": [
    "os.environ['openai_api_key'] = getpass('OpenAI API kulcs: ')"
   ]
  },
  {
   "cell_type": "markdown",
   "metadata": {},
   "source": [
    "# Inflációs ráta (webscraping)"
   ]
  },
  {
   "cell_type": "code",
   "execution_count": 3,
   "metadata": {
    "id": "a5xbFf_4TcGT"
   },
   "outputs": [],
   "source": [
    "# soup\n",
    "url = 'https://www.ksh.hu/stadat_files/ara/hu/ara0002.html'\n",
    "response = requests.get(url)\n",
    "html = response.text\n",
    "soup = BeautifulSoup(html, 'lxml')\n",
    "\n",
    "# táblázat keresése\n",
    "table = soup.find('table')\n",
    "\n",
    "# fejléc keresése\n",
    "head = soup.find('thead')\n",
    "header = [h.get_text(strip = True, separator=' ') for h in head.find_all('th')]\n",
    "\n",
    "# sorok keresése\n",
    "rows = []\n",
    "\n",
    "for r in table.find_all('tr')[1:]:\n",
    "  cells = [d.get_text(strip = True) for d in r.find_all(['th','td'])]\n",
    "  if cells:\n",
    "    rows.append(cells)\n",
    "\n",
    "# adatok df-be töltése\n",
    "df_infl = pd.DataFrame(rows, columns=header)\n",
    "df_infl = df_infl[['Év', 'Összesen']]\n",
    "df_infl.columns = ['Év', 'Infláció']\n",
    "df_infl['Év'] = df_infl['Év'].astype(int)\n",
    "df_infl['Infláció'] = df_infl['Infláció'].str.replace(',', '.')\n",
    "df_infl['Infláció'] = pd.to_numeric(df_infl['Infláció'], errors='coerce')\n"
   ]
  },
  {
   "cell_type": "markdown",
   "metadata": {
    "id": "TQ5_nHMkIs-k"
   },
   "source": [
    "# GYSE kérelmek importálása és adatok előkészítése"
   ]
  },
  {
   "cell_type": "code",
   "execution_count": 4,
   "metadata": {
    "id": "twnWJoxjI886"
   },
   "outputs": [],
   "source": [
    "# GYSE kérelmek az egyes években\n",
    "k2013 = 'https://www.neak.gov.hu/pfile/file?path=/letoltheto/ATFO_dok/GYSE/kerelmek/2013/KERELMEK2013-1220&inline=true'\n",
    "k2014 = 'https://www.neak.gov.hu/pfile/file?path=/letoltheto/ATFO_dok/GYSE/kerelmek/2014/kerelmek2015-0107&inline=true'\n",
    "k2015 = 'https://www.neak.gov.hu/pfile/file?path=/letoltheto/ATFO_dok/GYSE/kerelmek/2015/kerelmek2015-201601&inline=true'\n",
    "k2016 = 'https://www.neak.gov.hu/pfile/file?path=/letoltheto/ATFO_dok/GYSE/kerelmek/2016/kerelmek2016-1230&inline=true'\n",
    "k2017 = 'https://www.neak.gov.hu/pfile/file?path=/letoltheto/ATFO_dok/GYSE/kerelmek/2017/kerelmek2017-20180125&inline=true'\n",
    "k2018 = 'https://www.neak.gov.hu/pfile/file?path=/letoltheto/ATFO_dok/GYSE/kerelmek/2018/kerelmek2018-20190108&inline=true'\n",
    "k2019 = 'https://www.neak.gov.hu/pfile/file?path=/letoltheto/ATFO_dok/GYSE/kerelmek/Kerelem_2019/kerelmek2019-20200116&inline=true'\n",
    "k2020 = 'https://www.neak.gov.hu/pfile/file?path=/letoltheto/ATFO_dok/GYSE/kerelmek/Kerelem_2020/kerelmek2020-20220223&inline=true'\n",
    "k2021 = 'https://www.neak.gov.hu/pfile/file?path=/letoltheto/ATFO_dok/GYSE/kerelmek/Kerelem_2021/kerelmek2021-20220223&inline=true'\n",
    "k2022 = 'https://www.neak.gov.hu/pfile/file?path=/letoltheto/ATFO_dok/GYSE/kerelmek/Kerelem_2022/kerelmek2022-20230208&inline=true'\n",
    "k2023 = 'https://www.neak.gov.hu/pfile/file?path=/letoltheto/ATFO_dok/GYSE/kerelmek/Kerelem_2023/kerelmek2023-20240115&inline=true'\n",
    "k2024 = 'https://www.neak.gov.hu/pfile/file?path=/letoltheto/ATFO_dok/GYSE/kerelmek/2024/kerelmek2024_250113&inline=true'\n",
    "k2025 = 'https://www.neak.gov.hu/pfile/file?path=/letoltheto/ATFO_dok/GYSE/kerelmek/2025/kerelmek2025_0724&inline=true'"
   ]
  },
  {
   "cell_type": "code",
   "execution_count": 5,
   "metadata": {
    "colab": {
     "base_uri": "https://localhost:8080/",
     "height": 408
    },
    "id": "D6xTXRAQvzT2",
    "outputId": "dbf2a6ca-5f99-4e13-a415-bc6159b50520"
   },
   "outputs": [],
   "source": [
    "# importálás az inputok eltérő struktúrája mellett\n",
    "\n",
    "# plusz sor, nincs ISO-oszlop\n",
    "df_2013 = pd.read_excel(k2013, skiprows=1)\n",
    "df_2013['ISO-kód'] = 'NaN'\n",
    "df_2014 = pd.read_excel(k2014, skiprows=1)\n",
    "df_2014['ISO-kód'] = 'NaN'\n",
    "\n",
    "# nincs ISO-kód\n",
    "df_2015 = pd.read_excel(k2015, skiprows=0)\n",
    "df_2015['ISO-kód'] = 'NaN'\n",
    "df_2016 = pd.read_excel(k2016, skiprows=0)\n",
    "df_2016['ISO-kód'] = 'NaN'\n",
    "df_2017 = pd.read_excel(k2017, skiprows=0)\n",
    "df_2017['ISO-kód'] = 'NaN'\n",
    "\n",
    "# ISO-kód adott\n",
    "df_2018 = pd.read_excel(k2018, skiprows=0)\n",
    "df_2019 = pd.read_excel(k2019, skiprows=0)\n",
    "df_2020 = pd.read_excel(k2020, skiprows=0)\n",
    "df_2021 = pd.read_excel(k2021, skiprows=0)\n",
    "df_2022 = pd.read_excel(k2022, skiprows=0)\n",
    "df_2023 = pd.read_excel(k2023, skiprows=0)\n",
    "df_2024 = pd.read_excel(k2024, skiprows=0)\n",
    "df_2025 = pd.read_excel(k2025, skiprows=0)\n",
    "\n",
    "# azonos struktúrába rendezés\n",
    "df_2013 = df_2013[df_2025.columns]\n",
    "df_2014 = df_2014[df_2025.columns]\n",
    "df_2015 = df_2015[df_2025.columns]\n",
    "df_2016 = df_2016[df_2025.columns]\n",
    "df_2017 = df_2017[df_2025.columns]"
   ]
  },
  {
   "cell_type": "code",
   "execution_count": 6,
   "metadata": {},
   "outputs": [],
   "source": [
    "# évenkénti adatok összekapcsolása egy táblába\n",
    "df_all = pd.concat([df_2013, df_2014, df_2015, df_2016, df_2017, df_2018, \n",
    "                    df_2019, df_2020, df_2021, df_2022, df_2023, df_2024, df_2025], ignore_index=True)"
   ]
  },
  {
   "cell_type": "markdown",
   "metadata": {},
   "source": [
    "# Adatok tisztítása"
   ]
  },
  {
   "cell_type": "code",
   "execution_count": 7,
   "metadata": {
    "id": "0-ApEPJQwLeq"
   },
   "outputs": [],
   "source": [
    "df_all = df_all[['ISO-kód', 'Ügy tárgya', 'Kérelem típusa', 'Kérelmező neve', 'Eljárás megindításának napja']]\n",
    "df_all.columns = ['ISO', 'Eszköz', 'Kérelem', 'Kérelmező', 'Év']\n",
    "df_all['Év'] = pd.to_datetime(df_all['Év'], errors='coerce')\n",
    "df_all['Év'] = df_all['Év'].dt.year\n",
    "df_all['Év'] = df_all['Év'].fillna(0).astype(int)\n",
    "\n",
    "# vizsgált kérelemtípusok kiszűrése: új eszköz befogadása, áremelési kérelem, befogadott eszköz törlése\n",
    "df_subm = df_all[(df_all['Kérelem'] == 'új termék (aa)') | (df_all['Kérelem'] == 'áremelés (bf)') | (df_all['Kérelem'] == 'törlés (bg)') ]"
   ]
  },
  {
   "cell_type": "code",
   "execution_count": 8,
   "metadata": {
    "id": "8j2iBUm1Ya_n"
   },
   "outputs": [
    {
     "data": {
      "text/plain": [
       "ISO    1037\n",
       "dtype: int64"
      ]
     },
     "execution_count": 8,
     "metadata": {},
     "output_type": "execute_result"
    }
   ],
   "source": [
    "# hiányzó ISO-kódok\n",
    "df_subm[['ISO']][df_subm.ISO == 'NaN'].count()"
   ]
  },
  {
   "cell_type": "code",
   "execution_count": 9,
   "metadata": {},
   "outputs": [],
   "source": [
    "# ismert ISO-kódok esetén csoportosítás\n",
    "iso2 = {\n",
    "    '02': 'kötszer', \n",
    "    '04': 'személyes gyógykezelés', \n",
    "    '06': 'ortézis/protézis/ortopéd cipő', \n",
    "    '09': 'ruha/védelem/higiéné',\n",
    "    '12': 'járás/moped/kerekesszék/tájékozódás', \n",
    "    '15': 'evés/ivás', \n",
    "    '18': 'bútor',\n",
    "    '21': 'látás/hallás/jeladás' }\n",
    "\n",
    "df_subm = df_subm.copy()\n",
    "df_subm.loc[:, 'Csoport'] = df_subm['ISO'].str[:2].map(iso2)"
   ]
  },
  {
   "cell_type": "code",
   "execution_count": 10,
   "metadata": {},
   "outputs": [],
   "source": [
    "# ISO csoportok meghatározása a Nemzeti Egészségbiztosítási Alapkezelő Online SEgédeszköz JegyzéK főbb kulcsszavai alapján\n",
    "\n",
    "df_ISONaN = df_subm[(df_subm['Csoport'].isna())]\n",
    "\n",
    "df_ISONaN.loc[df_ISONaN['Eszköz'].str.contains('kötszer|kötés|habszivacs|hydrokolloid|hydrogél|alginát|mull|gézlap|sebpárna|ragtapasz', \n",
    "                                                regex=True, case=False), 'Csoport'] = 'kötszer'\n",
    "df_ISONaN.loc[df_ISONaN['Eszköz'].str.contains('inhalátor|oxigén|párásító|CPAP|BiPAP|váladékszívó|szívókészülék|flutter|pipa|orrmaszk|sérv|Mainat|harisnyanadrág|karharisnya|térdharisnya|inzulinpumpa|holttér nélküli fecskendő|fecskendőtű|pen tű|teszt|vércukormérő|szintmérő|ingerlő|okklúzió|torna', \n",
    "                                                regex=True, case=False), 'Csoport'] = 'személyes gyógykezelés'\n",
    "df_ISONaN.loc[df_ISONaN['Eszköz'].str.contains('ortézis|emlőprotézis|peroneus|térdrögzítő|fűző|boka|gerinc|medence|paróka|műfog|fogsor|korona|ortopéd cipő', \n",
    "                                                regex=True, case=False), 'Csoport'] = 'ortézis/protézis/ortopéd cipő'\n",
    "df_ISONaN.loc[df_ISONaN['Eszköz'].str.contains('melltartó|csonkharisnya|wc magasító|kanül|zsák|zacskó|sztóma|inkontinencia|pelenka|ballon katéter|hidrofil katéter|vizelet|rögzítőnadrág|szobai wc', \n",
    "                                               regex=True, case=False), 'Csoport'] = 'ruha/védelem/higiéné'\n",
    "df_ISONaN.loc[df_ISONaN['Eszköz'].str.contains('fémbot|fehérbot|járóbot|mankó|járókeret|kerekesszék|moped|tapogatóbot|akkumulátor', \n",
    "                                               regex=True, case=False), 'Csoport'] = 'járás/moped/kerekesszék/tájékozódás'\n",
    "df_ISONaN.loc[df_ISONaN['Eszköz'].str.contains('szonda|gasztro|táplálópumpa|enterális|öblítő fecskendő', \n",
    "                                               regex=True, case=False), 'Csoport'] = 'evés/ivás'\n",
    "df_ISONaN.loc[df_ISONaN['Eszköz'].str.contains('lábtámasz|háttámasz|kartámasz|antidecubitus|kapaszkodó', \n",
    "                                               regex=True, case=False), 'Csoport'] = 'bútor'\n",
    "df_ISONaN.loc[df_ISONaN['Eszköz'].str.contains('sph.|focalis|lencse|műszem|szemüveg|hangprotézis|műgége|hallókészülék|szenzor|távadó|ébresztő', \n",
    "                                               regex=True, case=False), 'Csoport'] = 'látás/hallás/jeladás'\n",
    "\n",
    "df_subm['Csoport'].update(df_ISONaN['Csoport'])"
   ]
  },
  {
   "cell_type": "code",
   "execution_count": 11,
   "metadata": {},
   "outputs": [
    {
     "data": {
      "text/plain": [
       "Eszköz    48\n",
       "dtype: int64"
      ]
     },
     "execution_count": 11,
     "metadata": {},
     "output_type": "execute_result"
    }
   ],
   "source": [
    "# hiányzó csoportok\n",
    "df_ISONaN[['Eszköz']][df_ISONaN['Csoport'].isna()].count()"
   ]
  },
  {
   "cell_type": "code",
   "execution_count": 12,
   "metadata": {},
   "outputs": [
    {
     "data": {
      "text/html": [
       "<div>\n",
       "<style scoped>\n",
       "    .dataframe tbody tr th:only-of-type {\n",
       "        vertical-align: middle;\n",
       "    }\n",
       "\n",
       "    .dataframe tbody tr th {\n",
       "        vertical-align: top;\n",
       "    }\n",
       "\n",
       "    .dataframe thead th {\n",
       "        text-align: right;\n",
       "    }\n",
       "</style>\n",
       "<table border=\"1\" class=\"dataframe\">\n",
       "  <thead>\n",
       "    <tr style=\"text-align: right;\">\n",
       "      <th></th>\n",
       "      <th>ISO</th>\n",
       "      <th>Eszköz</th>\n",
       "      <th>Kérelem</th>\n",
       "      <th>Kérelmező</th>\n",
       "      <th>Év</th>\n",
       "      <th>Csoport</th>\n",
       "    </tr>\n",
       "  </thead>\n",
       "  <tbody>\n",
       "    <tr>\n",
       "      <th>34</th>\n",
       "      <td>NaN</td>\n",
       "      <td>Wellion Calla 50 db/doboz vmérő tesztcsík</td>\n",
       "      <td>új termék (aa)</td>\n",
       "      <td>Premium Health Concepts Kft.</td>\n",
       "      <td>2012</td>\n",
       "      <td>személyes gyógykezelés</td>\n",
       "    </tr>\n",
       "    <tr>\n",
       "      <th>35</th>\n",
       "      <td>NaN</td>\n",
       "      <td>QS-610 Ortopédiai fűző Ágyék-keresztcsont orté...</td>\n",
       "      <td>új termék (aa)</td>\n",
       "      <td>REHAB Zrt.</td>\n",
       "      <td>2013</td>\n",
       "      <td>ortézis/protézis/ortopéd cipő</td>\n",
       "    </tr>\n",
       "    <tr>\n",
       "      <th>37</th>\n",
       "      <td>NaN</td>\n",
       "      <td>ReSound Alera 910 hallókészülék</td>\n",
       "      <td>új termék (aa)</td>\n",
       "      <td>Danavox-H Kft.</td>\n",
       "      <td>2013</td>\n",
       "      <td>látás/hallás/jeladás</td>\n",
       "    </tr>\n",
       "    <tr>\n",
       "      <th>38</th>\n",
       "      <td>NaN</td>\n",
       "      <td>ReSound Alera 930 hallókészülék</td>\n",
       "      <td>új termék (aa)</td>\n",
       "      <td>Danavox-H Kft.</td>\n",
       "      <td>2013</td>\n",
       "      <td>látás/hallás/jeladás</td>\n",
       "    </tr>\n",
       "    <tr>\n",
       "      <th>39</th>\n",
       "      <td>NaN</td>\n",
       "      <td>Dansac Solo sztómaterápiás eszköz</td>\n",
       "      <td>törlés (bg)</td>\n",
       "      <td>Hollister Kft.</td>\n",
       "      <td>2013</td>\n",
       "      <td>ruha/védelem/higiéné</td>\n",
       "    </tr>\n",
       "    <tr>\n",
       "      <th>...</th>\n",
       "      <td>...</td>\n",
       "      <td>...</td>\n",
       "      <td>...</td>\n",
       "      <td>...</td>\n",
       "      <td>...</td>\n",
       "      <td>...</td>\n",
       "    </tr>\n",
       "    <tr>\n",
       "      <th>1691</th>\n",
       "      <td>NaN</td>\n",
       "      <td>Actreen Lite Cath Nelaton steril, síkosított, ...</td>\n",
       "      <td>új termék (aa)</td>\n",
       "      <td>B. Braun Trading Kft.</td>\n",
       "      <td>2017</td>\n",
       "      <td>NaN</td>\n",
       "    </tr>\n",
       "    <tr>\n",
       "      <th>1692</th>\n",
       "      <td>NaN</td>\n",
       "      <td>Actreen Lite Cath Nelaton steril, síkosított, ...</td>\n",
       "      <td>új termék (aa)</td>\n",
       "      <td>B. Braun Trading Kft.</td>\n",
       "      <td>2017</td>\n",
       "      <td>NaN</td>\n",
       "    </tr>\n",
       "    <tr>\n",
       "      <th>1693</th>\n",
       "      <td>NaN</td>\n",
       "      <td>iD Pants Plus L (1653 ml) inkontinencia eszköz</td>\n",
       "      <td>új termék (aa)</td>\n",
       "      <td>Inco-Med Kft.</td>\n",
       "      <td>2017</td>\n",
       "      <td>ruha/védelem/higiéné</td>\n",
       "    </tr>\n",
       "    <tr>\n",
       "      <th>1694</th>\n",
       "      <td>NaN</td>\n",
       "      <td>Dcont Monda vércukormérő készülék</td>\n",
       "      <td>új termék (aa)</td>\n",
       "      <td>77 Elektronika Kft.</td>\n",
       "      <td>2017</td>\n",
       "      <td>személyes gyógykezelés</td>\n",
       "    </tr>\n",
       "    <tr>\n",
       "      <th>1811</th>\n",
       "      <td>24 45 06 03 21 144</td>\n",
       "      <td>Signia Pure Charge&amp;Go 5nx  hallókészülék</td>\n",
       "      <td>új termék (aa)</td>\n",
       "      <td>Sivantos Kft.</td>\n",
       "      <td>2018</td>\n",
       "      <td>látás/hallás/jeladás</td>\n",
       "    </tr>\n",
       "  </tbody>\n",
       "</table>\n",
       "<p>1038 rows × 6 columns</p>\n",
       "</div>"
      ],
      "text/plain": [
       "                     ISO                                             Eszköz  \\\n",
       "34                   NaN          Wellion Calla 50 db/doboz vmérő tesztcsík   \n",
       "35                   NaN  QS-610 Ortopédiai fűző Ágyék-keresztcsont orté...   \n",
       "37                   NaN                    ReSound Alera 910 hallókészülék   \n",
       "38                   NaN                    ReSound Alera 930 hallókészülék   \n",
       "39                   NaN                  Dansac Solo sztómaterápiás eszköz   \n",
       "...                  ...                                                ...   \n",
       "1691                 NaN  Actreen Lite Cath Nelaton steril, síkosított, ...   \n",
       "1692                 NaN  Actreen Lite Cath Nelaton steril, síkosított, ...   \n",
       "1693                 NaN     iD Pants Plus L (1653 ml) inkontinencia eszköz   \n",
       "1694                 NaN                  Dcont Monda vércukormérő készülék   \n",
       "1811  24 45 06 03 21 144           Signia Pure Charge&Go 5nx  hallókészülék   \n",
       "\n",
       "             Kérelem                      Kérelmező    Év  \\\n",
       "34    új termék (aa)  Premium Health Concepts Kft.   2012   \n",
       "35    új termék (aa)                     REHAB Zrt.  2013   \n",
       "37    új termék (aa)                 Danavox-H Kft.  2013   \n",
       "38    új termék (aa)                 Danavox-H Kft.  2013   \n",
       "39       törlés (bg)                 Hollister Kft.  2013   \n",
       "...              ...                            ...   ...   \n",
       "1691  új termék (aa)          B. Braun Trading Kft.  2017   \n",
       "1692  új termék (aa)          B. Braun Trading Kft.  2017   \n",
       "1693  új termék (aa)                  Inco-Med Kft.  2017   \n",
       "1694  új termék (aa)            77 Elektronika Kft.  2017   \n",
       "1811  új termék (aa)                  Sivantos Kft.  2018   \n",
       "\n",
       "                            Csoport  \n",
       "34           személyes gyógykezelés  \n",
       "35    ortézis/protézis/ortopéd cipő  \n",
       "37             látás/hallás/jeladás  \n",
       "38             látás/hallás/jeladás  \n",
       "39             ruha/védelem/higiéné  \n",
       "...                             ...  \n",
       "1691                            NaN  \n",
       "1692                            NaN  \n",
       "1693           ruha/védelem/higiéné  \n",
       "1694         személyes gyógykezelés  \n",
       "1811           látás/hallás/jeladás  \n",
       "\n",
       "[1038 rows x 6 columns]"
      ]
     },
     "execution_count": 12,
     "metadata": {},
     "output_type": "execute_result"
    }
   ],
   "source": [
    "df_ISONaN"
   ]
  },
  {
   "cell_type": "code",
   "execution_count": 13,
   "metadata": {},
   "outputs": [
    {
     "data": {
      "text/plain": [
       "Kulcs     48\n",
       "Eszköz    48\n",
       "dtype: int64"
      ]
     },
     "execution_count": 13,
     "metadata": {},
     "output_type": "execute_result"
    }
   ],
   "source": [
    "# ismeretlen ISO-csoportú kérelmek leszűrése\n",
    "df_ISONaN = df_ISONaN[(df_ISONaN['Csoport'].isna())]\n",
    "df_ISONaN = df_ISONaN.reset_index(drop=False)\n",
    "df_ISONaN.columns = ['Kulcs', 'ISO', 'Eszköz', 'Kérelem', 'Kérelmező', 'Év', 'Csoport']\n",
    "df_toAI = df_ISONaN[['Kulcs', 'Eszköz']]\n",
    "df_toAI.count()"
   ]
  },
  {
   "cell_type": "code",
   "execution_count": 14,
   "metadata": {},
   "outputs": [
    {
     "data": {
      "text/html": [
       "<div>\n",
       "<style scoped>\n",
       "    .dataframe tbody tr th:only-of-type {\n",
       "        vertical-align: middle;\n",
       "    }\n",
       "\n",
       "    .dataframe tbody tr th {\n",
       "        vertical-align: top;\n",
       "    }\n",
       "\n",
       "    .dataframe thead th {\n",
       "        text-align: right;\n",
       "    }\n",
       "</style>\n",
       "<table border=\"1\" class=\"dataframe\">\n",
       "  <thead>\n",
       "    <tr style=\"text-align: right;\">\n",
       "      <th></th>\n",
       "      <th>Kulcs</th>\n",
       "      <th>Eszköz</th>\n",
       "    </tr>\n",
       "  </thead>\n",
       "  <tbody>\n",
       "    <tr>\n",
       "      <th>0</th>\n",
       "      <td>110</td>\n",
       "      <td>RT-4021 GF  szoba WC</td>\n",
       "    </tr>\n",
       "    <tr>\n",
       "      <th>1</th>\n",
       "      <td>121</td>\n",
       "      <td>Gyógyorr antiallergiás készülék</td>\n",
       "    </tr>\n",
       "    <tr>\n",
       "      <th>2</th>\n",
       "      <td>122</td>\n",
       "      <td>Salus RMP 5m x 12 cm kompressziós pólya</td>\n",
       "    </tr>\n",
       "    <tr>\n",
       "      <th>3</th>\n",
       "      <td>216</td>\n",
       "      <td>LoFric Tiemann hidrofil felületű műanyag lecsa...</td>\n",
       "    </tr>\n",
       "    <tr>\n",
       "      <th>4</th>\n",
       "      <td>221</td>\n",
       "      <td>BE 1370 Bellman digitális ébretőóra</td>\n",
       "    </tr>\n",
       "    <tr>\n",
       "      <th>5</th>\n",
       "      <td>265</td>\n",
       "      <td>POWERbreathe Medic maszk maszk</td>\n",
       "    </tr>\n",
       "    <tr>\n",
       "      <th>6</th>\n",
       "      <td>332</td>\n",
       "      <td>Injekt 2 ml (2 részes) fecskendő</td>\n",
       "    </tr>\n",
       "    <tr>\n",
       "      <th>7</th>\n",
       "      <td>333</td>\n",
       "      <td>Injekt 5 ml (2 részes) fecskendő</td>\n",
       "    </tr>\n",
       "    <tr>\n",
       "      <th>8</th>\n",
       "      <td>359</td>\n",
       "      <td>RESMED Swift FX orrpárna maszk Maszk</td>\n",
       "    </tr>\n",
       "    <tr>\n",
       "      <th>9</th>\n",
       "      <td>360</td>\n",
       "      <td>RESMED Swift FX for Her orrpárna maszk (női) M...</td>\n",
       "    </tr>\n",
       "    <tr>\n",
       "      <th>10</th>\n",
       "      <td>411</td>\n",
       "      <td>fehér támbot (Nostra)</td>\n",
       "    </tr>\n",
       "    <tr>\n",
       "      <th>11</th>\n",
       "      <td>438</td>\n",
       "      <td>Medi AF combközépig érő harisnya (méretes)</td>\n",
       "    </tr>\n",
       "    <tr>\n",
       "      <th>12</th>\n",
       "      <td>439</td>\n",
       "      <td>Medi AG combtőig érő harisnya (méretes)</td>\n",
       "    </tr>\n",
       "    <tr>\n",
       "      <th>13</th>\n",
       "      <td>445</td>\n",
       "      <td>Medi AC 0 kesztyű ujj nélkül (méretes)</td>\n",
       "    </tr>\n",
       "    <tr>\n",
       "      <th>14</th>\n",
       "      <td>446</td>\n",
       "      <td>Medi AC 1 egyujjas kesztyű (méretes)</td>\n",
       "    </tr>\n",
       "    <tr>\n",
       "      <th>15</th>\n",
       "      <td>447</td>\n",
       "      <td>Medi AC 5 ötujjas kesztyű (méretes)</td>\n",
       "    </tr>\n",
       "    <tr>\n",
       "      <th>16</th>\n",
       "      <td>451</td>\n",
       "      <td>Medi AC 0 kesztyű ujj nélkül (méretes)</td>\n",
       "    </tr>\n",
       "    <tr>\n",
       "      <th>17</th>\n",
       "      <td>452</td>\n",
       "      <td>Medi AC 1 kesztyű egyujjas (méretes)</td>\n",
       "    </tr>\n",
       "    <tr>\n",
       "      <th>18</th>\n",
       "      <td>453</td>\n",
       "      <td>Medi AC 5 ötujjas kesztyű (méretes)</td>\n",
       "    </tr>\n",
       "    <tr>\n",
       "      <th>19</th>\n",
       "      <td>456</td>\n",
       "      <td>Dr.TEX-STAND combtőig érő harisnya II. kompres...</td>\n",
       "    </tr>\n",
       "    <tr>\n",
       "      <th>20</th>\n",
       "      <td>515</td>\n",
       "      <td>GentleCath hidrofil felületű műanyag lecsapoló...</td>\n",
       "    </tr>\n",
       "    <tr>\n",
       "      <th>21</th>\n",
       "      <td>561</td>\n",
       "      <td>Starkey Z Series i70 CC</td>\n",
       "    </tr>\n",
       "    <tr>\n",
       "      <th>22</th>\n",
       "      <td>562</td>\n",
       "      <td>Starkey Z Series i110 mRIC</td>\n",
       "    </tr>\n",
       "    <tr>\n",
       "      <th>23</th>\n",
       "      <td>563</td>\n",
       "      <td>Starkey Z Series i90 mini</td>\n",
       "    </tr>\n",
       "    <tr>\n",
       "      <th>24</th>\n",
       "      <td>564</td>\n",
       "      <td>Starkey Z Series i70 BTE PP</td>\n",
       "    </tr>\n",
       "    <tr>\n",
       "      <th>25</th>\n",
       "      <td>565</td>\n",
       "      <td>Starkey Z Series i70 BTE</td>\n",
       "    </tr>\n",
       "    <tr>\n",
       "      <th>26</th>\n",
       "      <td>566</td>\n",
       "      <td>Starkey Z Series i30 mini</td>\n",
       "    </tr>\n",
       "    <tr>\n",
       "      <th>27</th>\n",
       "      <td>567</td>\n",
       "      <td>Starkey Z Series i30 BTE</td>\n",
       "    </tr>\n",
       "    <tr>\n",
       "      <th>28</th>\n",
       "      <td>568</td>\n",
       "      <td>Starkey Z Series i70 CIC</td>\n",
       "    </tr>\n",
       "    <tr>\n",
       "      <th>29</th>\n",
       "      <td>569</td>\n",
       "      <td>Starkey Z Series i70 CC P</td>\n",
       "    </tr>\n",
       "    <tr>\n",
       "      <th>30</th>\n",
       "      <td>570</td>\n",
       "      <td>Starkey Z Series i30 CIC P</td>\n",
       "    </tr>\n",
       "    <tr>\n",
       "      <th>31</th>\n",
       "      <td>571</td>\n",
       "      <td>Starkey Z Series i30 CIC</td>\n",
       "    </tr>\n",
       "    <tr>\n",
       "      <th>32</th>\n",
       "      <td>572</td>\n",
       "      <td>Starkey Z Series i30 CC P</td>\n",
       "    </tr>\n",
       "    <tr>\n",
       "      <th>33</th>\n",
       "      <td>573</td>\n",
       "      <td>Starkey Z Series i30 CC</td>\n",
       "    </tr>\n",
       "    <tr>\n",
       "      <th>34</th>\n",
       "      <td>574</td>\n",
       "      <td>Starkey Z Series i30 BTE PP</td>\n",
       "    </tr>\n",
       "    <tr>\n",
       "      <th>35</th>\n",
       "      <td>719</td>\n",
       "      <td>Otto Bock Kopolimer liner liner</td>\n",
       "    </tr>\n",
       "    <tr>\n",
       "      <th>36</th>\n",
       "      <td>727</td>\n",
       "      <td>Promobil AG combtőig érő harisnya (standard) I...</td>\n",
       "    </tr>\n",
       "    <tr>\n",
       "      <th>37</th>\n",
       "      <td>880</td>\n",
       "      <td>Fehér támbot (Nostra)</td>\n",
       "    </tr>\n",
       "    <tr>\n",
       "      <th>38</th>\n",
       "      <td>1104</td>\n",
       "      <td>Mátraplast 2 ml fecskendő</td>\n",
       "    </tr>\n",
       "    <tr>\n",
       "      <th>39</th>\n",
       "      <td>1267</td>\n",
       "      <td>ALPS Easyliner Gél Liner liner</td>\n",
       "    </tr>\n",
       "    <tr>\n",
       "      <th>40</th>\n",
       "      <td>1272</td>\n",
       "      <td>ResMed AirFit P10 orrpárna maszk maszk</td>\n",
       "    </tr>\n",
       "    <tr>\n",
       "      <th>41</th>\n",
       "      <td>1273</td>\n",
       "      <td>ResMed AirFit P10 for Her orrpárna maszk maszk</td>\n",
       "    </tr>\n",
       "    <tr>\n",
       "      <th>42</th>\n",
       "      <td>1403</td>\n",
       "      <td>Universa R 100% szilikon Foley katéter, 1,5-30...</td>\n",
       "    </tr>\n",
       "    <tr>\n",
       "      <th>43</th>\n",
       "      <td>1688</td>\n",
       "      <td>Actreen Mini Set steril, sikosított intermittá...</td>\n",
       "    </tr>\n",
       "    <tr>\n",
       "      <th>44</th>\n",
       "      <td>1689</td>\n",
       "      <td>Actreen Mini Cath steril, síkosított intermitt...</td>\n",
       "    </tr>\n",
       "    <tr>\n",
       "      <th>45</th>\n",
       "      <td>1690</td>\n",
       "      <td>Actreen Hi-Lite Set Nelaton steril, síkosított...</td>\n",
       "    </tr>\n",
       "    <tr>\n",
       "      <th>46</th>\n",
       "      <td>1691</td>\n",
       "      <td>Actreen Lite Cath Nelaton steril, síkosított, ...</td>\n",
       "    </tr>\n",
       "    <tr>\n",
       "      <th>47</th>\n",
       "      <td>1692</td>\n",
       "      <td>Actreen Lite Cath Nelaton steril, síkosított, ...</td>\n",
       "    </tr>\n",
       "  </tbody>\n",
       "</table>\n",
       "</div>"
      ],
      "text/plain": [
       "    Kulcs                                             Eszköz\n",
       "0     110                               RT-4021 GF  szoba WC\n",
       "1     121                   Gyógyorr antiallergiás készülék \n",
       "2     122            Salus RMP 5m x 12 cm kompressziós pólya\n",
       "3     216  LoFric Tiemann hidrofil felületű műanyag lecsa...\n",
       "4     221                BE 1370 Bellman digitális ébretőóra\n",
       "5     265                     POWERbreathe Medic maszk maszk\n",
       "6     332                   Injekt 2 ml (2 részes) fecskendő\n",
       "7     333                   Injekt 5 ml (2 részes) fecskendő\n",
       "8     359               RESMED Swift FX orrpárna maszk Maszk\n",
       "9     360  RESMED Swift FX for Her orrpárna maszk (női) M...\n",
       "10    411                             fehér támbot (Nostra) \n",
       "11    438        Medi AF combközépig érő harisnya (méretes) \n",
       "12    439           Medi AG combtőig érő harisnya (méretes) \n",
       "13    445            Medi AC 0 kesztyű ujj nélkül (méretes) \n",
       "14    446              Medi AC 1 egyujjas kesztyű (méretes) \n",
       "15    447               Medi AC 5 ötujjas kesztyű (méretes) \n",
       "16    451            Medi AC 0 kesztyű ujj nélkül (méretes) \n",
       "17    452              Medi AC 1 kesztyű egyujjas (méretes) \n",
       "18    453               Medi AC 5 ötujjas kesztyű (méretes) \n",
       "19    456  Dr.TEX-STAND combtőig érő harisnya II. kompres...\n",
       "20    515  GentleCath hidrofil felületű műanyag lecsapoló...\n",
       "21    561                           Starkey Z Series i70 CC \n",
       "22    562                        Starkey Z Series i110 mRIC \n",
       "23    563                         Starkey Z Series i90 mini \n",
       "24    564                       Starkey Z Series i70 BTE PP \n",
       "25    565                         Starkey Z Series i70 BTE  \n",
       "26    566                         Starkey Z Series i30 mini \n",
       "27    567                          Starkey Z Series i30 BTE \n",
       "28    568                          Starkey Z Series i70 CIC \n",
       "29    569                         Starkey Z Series i70 CC P \n",
       "30    570                        Starkey Z Series i30 CIC P \n",
       "31    571                          Starkey Z Series i30 CIC \n",
       "32    572                         Starkey Z Series i30 CC P \n",
       "33    573                          Starkey Z Series i30 CC  \n",
       "34    574                       Starkey Z Series i30 BTE PP \n",
       "35    719                    Otto Bock Kopolimer liner liner\n",
       "36    727  Promobil AG combtőig érő harisnya (standard) I...\n",
       "37    880                             Fehér támbot (Nostra) \n",
       "38   1104                          Mátraplast 2 ml fecskendő\n",
       "39   1267                     ALPS Easyliner Gél Liner liner\n",
       "40   1272             ResMed AirFit P10 orrpárna maszk maszk\n",
       "41   1273     ResMed AirFit P10 for Her orrpárna maszk maszk\n",
       "42   1403  Universa R 100% szilikon Foley katéter, 1,5-30...\n",
       "43   1688  Actreen Mini Set steril, sikosított intermittá...\n",
       "44   1689  Actreen Mini Cath steril, síkosított intermitt...\n",
       "45   1690  Actreen Hi-Lite Set Nelaton steril, síkosított...\n",
       "46   1691  Actreen Lite Cath Nelaton steril, síkosított, ...\n",
       "47   1692  Actreen Lite Cath Nelaton steril, síkosított, ..."
      ]
     },
     "execution_count": 14,
     "metadata": {},
     "output_type": "execute_result"
    }
   ],
   "source": [
    "df_toAI"
   ]
  },
  {
   "cell_type": "markdown",
   "metadata": {
    "id": "NYYuBWpZ1_Qs"
   },
   "source": [
    "# Név alapján történő kategorizálás AI segítségével"
   ]
  },
  {
   "cell_type": "code",
   "execution_count": 15,
   "metadata": {
    "id": "4WKm9HzamxLM"
   },
   "outputs": [],
   "source": [
    "# feladatmeghatározás az AI-nak\n",
    "prompt = (\"Elemezd a df_toAI df-t.\"\n",
    "          \"Kulcs-értékeket és gyógyászati segédeszközök neveit tartalmazza\"  \n",
    "          \"Értelmezd és nevük alapján sorold az alábbi csoportok egyikébe. Pontosan ezen kategóriákat használd:\"\n",
    "          \"kötszer, személyes gyógykezelés, ortézis/protézis/ortopéd cipő, ruha/védelem/higiéné, \"\n",
    "          \"járás/moped/kerekesszék/tájékozódás, evés/ivás, bútor/lakás, látás/hallás/jeladás \"\n",
    "          \"Az eredeti oszlopok értékeit tartsd meg, ne változtass a kulcs-oszlop értékein se!\"\n",
    "          \"Csak a csoportokkal kiegészített df-t küldd vissza .csv formátumban pontosvesszővel elválasztva, mást ne!\"\n",
    "          \"A df fejlécei: Kulcs, Eszköz, Csoport\"\n",
    "          \"Itt az eredeti df:\")\n",
    "\n",
    "message = prompt + str(df_toAI)"
   ]
  },
  {
   "cell_type": "code",
   "execution_count": 16,
   "metadata": {
    "id": "xrLWBe02VMQR"
   },
   "outputs": [],
   "source": [
    "# feladat elküldése az AI-nak\n",
    "\n",
    "openai_api_key = os.environ['openai_api_key']\n",
    "\n",
    "url = 'https://api.openai.com/v1/chat/completions'\n",
    "\n",
    "headers = {'Content-Type': 'application/json', 'Authorization': f'Bearer {openai_api_key}'}\n",
    "\n",
    "data = {'model': 'gpt-4o-mini', 'messages': [{'role': 'user', 'content': message}], 'temperature': 0.7}\n",
    "\n",
    "response = requests.post(url, headers=headers, data=json.dumps(data))"
   ]
  },
  {
   "cell_type": "code",
   "execution_count": 17,
   "metadata": {},
   "outputs": [
    {
     "data": {
      "text/html": [
       "<div>\n",
       "<style scoped>\n",
       "    .dataframe tbody tr th:only-of-type {\n",
       "        vertical-align: middle;\n",
       "    }\n",
       "\n",
       "    .dataframe tbody tr th {\n",
       "        vertical-align: top;\n",
       "    }\n",
       "\n",
       "    .dataframe thead th {\n",
       "        text-align: right;\n",
       "    }\n",
       "</style>\n",
       "<table border=\"1\" class=\"dataframe\">\n",
       "  <thead>\n",
       "    <tr style=\"text-align: right;\">\n",
       "      <th></th>\n",
       "      <th>Kulcs</th>\n",
       "      <th>Eszköz</th>\n",
       "      <th>Csoport</th>\n",
       "    </tr>\n",
       "  </thead>\n",
       "  <tbody>\n",
       "    <tr>\n",
       "      <th>0</th>\n",
       "      <td>0</td>\n",
       "      <td>RT-4021 GF  szoba WC</td>\n",
       "      <td>bútor/lakás</td>\n",
       "    </tr>\n",
       "    <tr>\n",
       "      <th>1</th>\n",
       "      <td>1</td>\n",
       "      <td>Gyógyorr antiallergiás készülék</td>\n",
       "      <td>személyes gyógykezelés</td>\n",
       "    </tr>\n",
       "    <tr>\n",
       "      <th>2</th>\n",
       "      <td>2</td>\n",
       "      <td>Salus RMP 5m x 12 cm kompressziós pólya</td>\n",
       "      <td>kötszer</td>\n",
       "    </tr>\n",
       "    <tr>\n",
       "      <th>3</th>\n",
       "      <td>3</td>\n",
       "      <td>LoFric Tiemann hidrofil felületű műanyag lecsa...</td>\n",
       "      <td>személyes gyógykezelés</td>\n",
       "    </tr>\n",
       "    <tr>\n",
       "      <th>4</th>\n",
       "      <td>4</td>\n",
       "      <td>BE 1370 Bellman digitális ébretőóra</td>\n",
       "      <td>járás/moped/kerekesszék/tájékozódás</td>\n",
       "    </tr>\n",
       "    <tr>\n",
       "      <th>5</th>\n",
       "      <td>5</td>\n",
       "      <td>POWERbreathe Medic maszk maszk</td>\n",
       "      <td>személyes gyógykezelés</td>\n",
       "    </tr>\n",
       "    <tr>\n",
       "      <th>6</th>\n",
       "      <td>6</td>\n",
       "      <td>Injekt 2 ml (2 részes) fecskendő</td>\n",
       "      <td>személyes gyógykezelés</td>\n",
       "    </tr>\n",
       "    <tr>\n",
       "      <th>7</th>\n",
       "      <td>7</td>\n",
       "      <td>Injekt 5 ml (2 részes) fecskendő</td>\n",
       "      <td>személyes gyógykezelés</td>\n",
       "    </tr>\n",
       "    <tr>\n",
       "      <th>8</th>\n",
       "      <td>8</td>\n",
       "      <td>RESMED Swift FX orrpárna maszk Maszk</td>\n",
       "      <td>személyes gyógykezelés</td>\n",
       "    </tr>\n",
       "    <tr>\n",
       "      <th>9</th>\n",
       "      <td>9</td>\n",
       "      <td>RESMED Swift FX for Her orrpárna maszk (női) M...</td>\n",
       "      <td>személyes gyógykezelés</td>\n",
       "    </tr>\n",
       "  </tbody>\n",
       "</table>\n",
       "</div>"
      ],
      "text/plain": [
       "   Kulcs                                             Eszköz  \\\n",
       "0      0                               RT-4021 GF  szoba WC   \n",
       "1      1                    Gyógyorr antiallergiás készülék   \n",
       "2      2            Salus RMP 5m x 12 cm kompressziós pólya   \n",
       "3      3  LoFric Tiemann hidrofil felületű műanyag lecsa...   \n",
       "4      4                BE 1370 Bellman digitális ébretőóra   \n",
       "5      5                     POWERbreathe Medic maszk maszk   \n",
       "6      6                   Injekt 2 ml (2 részes) fecskendő   \n",
       "7      7                   Injekt 5 ml (2 részes) fecskendő   \n",
       "8      8               RESMED Swift FX orrpárna maszk Maszk   \n",
       "9      9  RESMED Swift FX for Her orrpárna maszk (női) M...   \n",
       "\n",
       "                               Csoport  \n",
       "0                          bútor/lakás  \n",
       "1               személyes gyógykezelés  \n",
       "2                              kötszer  \n",
       "3               személyes gyógykezelés  \n",
       "4  járás/moped/kerekesszék/tájékozódás  \n",
       "5               személyes gyógykezelés  \n",
       "6               személyes gyógykezelés  \n",
       "7               személyes gyógykezelés  \n",
       "8               személyes gyógykezelés  \n",
       "9               személyes gyógykezelés  "
      ]
     },
     "execution_count": 17,
     "metadata": {},
     "output_type": "execute_result"
    }
   ],
   "source": [
    "# AI válaszából a szükséges adatok tisztítása és kinyerése\n",
    "raw_text = response.json()['choices'][0]['message']['content']\n",
    "\n",
    "cleaned_text = '\\n'.join(raw_text.strip().splitlines()[1:-1])\n",
    "\n",
    "df_back = pd.read_csv(StringIO(cleaned_text), sep=';')\n",
    "df_back.head(10)"
   ]
  },
  {
   "cell_type": "code",
   "execution_count": 18,
   "metadata": {},
   "outputs": [],
   "source": [
    "# AI csoportosítás visszatöltése az eredeti táblába\n",
    "df_ISONaN['Csoport'].update(df_back['Csoport'])\n",
    "update_df = df_ISONaN[['Kulcs', 'Csoport']]\n",
    "update_df = update_df.set_index('Kulcs')\n",
    "df_subm['Csoport'].update(update_df['Csoport'])"
   ]
  },
  {
   "cell_type": "code",
   "execution_count": 19,
   "metadata": {},
   "outputs": [
    {
     "data": {
      "text/html": [
       "<div>\n",
       "<style scoped>\n",
       "    .dataframe tbody tr th:only-of-type {\n",
       "        vertical-align: middle;\n",
       "    }\n",
       "\n",
       "    .dataframe tbody tr th {\n",
       "        vertical-align: top;\n",
       "    }\n",
       "\n",
       "    .dataframe thead th {\n",
       "        text-align: right;\n",
       "    }\n",
       "</style>\n",
       "<table border=\"1\" class=\"dataframe\">\n",
       "  <thead>\n",
       "    <tr style=\"text-align: right;\">\n",
       "      <th></th>\n",
       "      <th>ISO</th>\n",
       "      <th>Eszköz</th>\n",
       "      <th>Kérelem</th>\n",
       "      <th>Kérelmező</th>\n",
       "      <th>Év</th>\n",
       "      <th>Csoport</th>\n",
       "    </tr>\n",
       "  </thead>\n",
       "  <tbody>\n",
       "    <tr>\n",
       "      <th>34</th>\n",
       "      <td>NaN</td>\n",
       "      <td>Wellion Calla 50 db/doboz vmérő tesztcsík</td>\n",
       "      <td>új termék (aa)</td>\n",
       "      <td>Premium Health Concepts Kft.</td>\n",
       "      <td>2012</td>\n",
       "      <td>személyes gyógykezelés</td>\n",
       "    </tr>\n",
       "    <tr>\n",
       "      <th>35</th>\n",
       "      <td>NaN</td>\n",
       "      <td>QS-610 Ortopédiai fűző Ágyék-keresztcsont orté...</td>\n",
       "      <td>új termék (aa)</td>\n",
       "      <td>REHAB Zrt.</td>\n",
       "      <td>2013</td>\n",
       "      <td>ortézis/protézis/ortopéd cipő</td>\n",
       "    </tr>\n",
       "    <tr>\n",
       "      <th>37</th>\n",
       "      <td>NaN</td>\n",
       "      <td>ReSound Alera 910 hallókészülék</td>\n",
       "      <td>új termék (aa)</td>\n",
       "      <td>Danavox-H Kft.</td>\n",
       "      <td>2013</td>\n",
       "      <td>látás/hallás/jeladás</td>\n",
       "    </tr>\n",
       "    <tr>\n",
       "      <th>38</th>\n",
       "      <td>NaN</td>\n",
       "      <td>ReSound Alera 930 hallókészülék</td>\n",
       "      <td>új termék (aa)</td>\n",
       "      <td>Danavox-H Kft.</td>\n",
       "      <td>2013</td>\n",
       "      <td>látás/hallás/jeladás</td>\n",
       "    </tr>\n",
       "    <tr>\n",
       "      <th>39</th>\n",
       "      <td>NaN</td>\n",
       "      <td>Dansac Solo sztómaterápiás eszköz</td>\n",
       "      <td>törlés (bg)</td>\n",
       "      <td>Hollister Kft.</td>\n",
       "      <td>2013</td>\n",
       "      <td>ruha/védelem/higiéné</td>\n",
       "    </tr>\n",
       "  </tbody>\n",
       "</table>\n",
       "</div>"
      ],
      "text/plain": [
       "    ISO                                             Eszköz         Kérelem  \\\n",
       "34  NaN          Wellion Calla 50 db/doboz vmérő tesztcsík  új termék (aa)   \n",
       "35  NaN  QS-610 Ortopédiai fűző Ágyék-keresztcsont orté...  új termék (aa)   \n",
       "37  NaN                    ReSound Alera 910 hallókészülék  új termék (aa)   \n",
       "38  NaN                    ReSound Alera 930 hallókészülék  új termék (aa)   \n",
       "39  NaN                  Dansac Solo sztómaterápiás eszköz     törlés (bg)   \n",
       "\n",
       "                        Kérelmező    Év                        Csoport  \n",
       "34  Premium Health Concepts Kft.   2012         személyes gyógykezelés  \n",
       "35                     REHAB Zrt.  2013  ortézis/protézis/ortopéd cipő  \n",
       "37                 Danavox-H Kft.  2013           látás/hallás/jeladás  \n",
       "38                 Danavox-H Kft.  2013           látás/hallás/jeladás  \n",
       "39                 Hollister Kft.  2013           ruha/védelem/higiéné  "
      ]
     },
     "execution_count": 19,
     "metadata": {},
     "output_type": "execute_result"
    }
   ],
   "source": [
    "# AI csoportosítás visszatöltése az eredeti táblába\n",
    "df_ISONaN['Csoport'].update(df_back['Csoport'])\n",
    "df_csoport = df_ISONaN[['Kulcs', 'Csoport']]\n",
    "df_csoport = df_csoport.set_index('Kulcs')\n",
    "df_subm['Csoport'].update(df_csoport['Csoport'])\n",
    "df_subm.head()"
   ]
  },
  {
   "cell_type": "code",
   "execution_count": 20,
   "metadata": {},
   "outputs": [
    {
     "data": {
      "text/html": [
       "<div>\n",
       "<style scoped>\n",
       "    .dataframe tbody tr th:only-of-type {\n",
       "        vertical-align: middle;\n",
       "    }\n",
       "\n",
       "    .dataframe tbody tr th {\n",
       "        vertical-align: top;\n",
       "    }\n",
       "\n",
       "    .dataframe thead th {\n",
       "        text-align: right;\n",
       "    }\n",
       "</style>\n",
       "<table border=\"1\" class=\"dataframe\">\n",
       "  <thead>\n",
       "    <tr style=\"text-align: right;\">\n",
       "      <th></th>\n",
       "      <th>ISO</th>\n",
       "      <th>Eszköz</th>\n",
       "      <th>Kérelem</th>\n",
       "      <th>Kérelmező</th>\n",
       "      <th>Év</th>\n",
       "      <th>Csoport</th>\n",
       "    </tr>\n",
       "  </thead>\n",
       "  <tbody>\n",
       "  </tbody>\n",
       "</table>\n",
       "</div>"
      ],
      "text/plain": [
       "Empty DataFrame\n",
       "Columns: [ISO, Eszköz, Kérelem, Kérelmező, Év, Csoport]\n",
       "Index: []"
      ]
     },
     "execution_count": 20,
     "metadata": {},
     "output_type": "execute_result"
    }
   ],
   "source": [
    "# ismeretlen csoportú kérelmek ellenőrzése\n",
    "df_subm[df_subm['Csoport'].isna()]"
   ]
  },
  {
   "cell_type": "markdown",
   "metadata": {},
   "source": [
    "# Kérelmek és infláció alakulása"
   ]
  },
  {
   "cell_type": "markdown",
   "metadata": {},
   "source": [
    "#### Összes kérelem"
   ]
  },
  {
   "cell_type": "code",
   "execution_count": 21,
   "metadata": {},
   "outputs": [
    {
     "data": {
      "application/vnd.plotly.v1+json": {
       "config": {
        "plotlyServerURL": "https://plot.ly"
       },
       "data": [
        {
         "hovertemplate": "variable=törlés (bg)<br>Év=%{x}<br>value=%{y}<extra></extra>",
         "legendgroup": "törlés (bg)",
         "line": {
          "color": "#636efa",
          "dash": "solid"
         },
         "marker": {
          "symbol": "circle"
         },
         "mode": "lines",
         "name": "törlés (bg)",
         "orientation": "v",
         "showlegend": true,
         "type": "scatter",
         "x": {
          "bdata": "3AfdB94H3wfgB+EH4gfjB+QH5QfmB+cH6AfpBw==",
          "dtype": "i2"
         },
         "xaxis": "x",
         "y": {
          "bdata": "AAAAAAAAAAAAAAAAAIBEQAAAAAAAwF9AAAAAAABgY0AAAAAAAMBSQAAAAAAAAFJAAAAAAADAU0AAAAAAAIBTQAAAAAAAwFxAAAAAAABAXEAAAAAAAOBiQAAAAAAAIG1AAAAAAACAYkAAAAAAAIBcQA==",
          "dtype": "f8"
         },
         "yaxis": "y"
        },
        {
         "hovertemplate": "variable=áremelés (bf)<br>Év=%{x}<br>value=%{y}<extra></extra>",
         "legendgroup": "áremelés (bf)",
         "line": {
          "color": "#EF553B",
          "dash": "solid"
         },
         "marker": {
          "symbol": "circle"
         },
         "mode": "lines",
         "name": "áremelés (bf)",
         "orientation": "v",
         "showlegend": true,
         "type": "scatter",
         "x": {
          "bdata": "3AfdB94H3wfgB+EH4gfjB+QH5QfmB+cH6AfpBw==",
          "dtype": "i2"
         },
         "xaxis": "x",
         "y": {
          "bdata": "AAAAAAAAAAAAAAAAAAAAQAAAAAAAAD9AAAAAAAAACEAAAAAAAAAAAAAAAAAAAAhAAAAAAAAAMkAAAAAAAAAwQAAAAAAAAAhAAAAAAAAAOkAAAAAAAIBGQAAAAAAAgFdAAAAAAAAASUAAAAAAAAAuQA==",
          "dtype": "f8"
         },
         "yaxis": "y"
        },
        {
         "hovertemplate": "variable=új termék (aa)<br>Év=%{x}<br>value=%{y}<extra></extra>",
         "legendgroup": "új termék (aa)",
         "line": {
          "color": "#00cc96",
          "dash": "solid"
         },
         "marker": {
          "symbol": "circle"
         },
         "mode": "lines",
         "name": "új termék (aa)",
         "orientation": "v",
         "showlegend": true,
         "type": "scatter",
         "x": {
          "bdata": "3AfdB94H3wfgB+EH4gfjB+QH5QfmB+cH6AfpBw==",
          "dtype": "i2"
         },
         "xaxis": "x",
         "y": {
          "bdata": "AAAAAAAAAEAAAAAAAIBYQAAAAAAAwF9AAAAAAADAVEAAAAAAACBgQAAAAAAAQFZAAAAAAADAYEAAAAAAAABPQAAAAAAAwFlAAAAAAADAW0AAAAAAAGBgQAAAAAAAQFhAAAAAAABAV0AAAAAAAIBBQA==",
          "dtype": "f8"
         },
         "yaxis": "y"
        },
        {
         "line": {
          "color": "black",
          "dash": "dash"
         },
         "mode": "lines",
         "name": "Infláció (%)",
         "type": "scatter",
         "x": {
          "bdata": "3AfdB94H3wfgB+EH4gfjB+QH5QfmB+cH6AfpBw==",
          "dtype": "i2"
         },
         "y": {
          "bdata": "zczMzMxsWkDNzMzMzGxZQDMzMzMz81hAmpmZmZn5WECamZmZmRlZQJuZmZmZmVlAMzMzMzOzWUCamZmZmdlZQDMzMzMz01lAZmZmZmZGWkAAAAAAAKBcQGVmZmZmZl1AzczMzMzsWUAAAAAAAAD4fw==",
          "dtype": "f8"
         },
         "yaxis": "y2"
        }
       ],
       "layout": {
        "height": 500,
        "legend": {
         "orientation": "h",
         "title": {
          "text": "Kérelem típusa"
         },
         "tracegroupgap": 0,
         "y": -0.2
        },
        "paper_bgcolor": "white",
        "plot_bgcolor": "white",
        "template": {
         "data": {
          "bar": [
           {
            "error_x": {
             "color": "#2a3f5f"
            },
            "error_y": {
             "color": "#2a3f5f"
            },
            "marker": {
             "line": {
              "color": "#E5ECF6",
              "width": 0.5
             },
             "pattern": {
              "fillmode": "overlay",
              "size": 10,
              "solidity": 0.2
             }
            },
            "type": "bar"
           }
          ],
          "barpolar": [
           {
            "marker": {
             "line": {
              "color": "#E5ECF6",
              "width": 0.5
             },
             "pattern": {
              "fillmode": "overlay",
              "size": 10,
              "solidity": 0.2
             }
            },
            "type": "barpolar"
           }
          ],
          "carpet": [
           {
            "aaxis": {
             "endlinecolor": "#2a3f5f",
             "gridcolor": "white",
             "linecolor": "white",
             "minorgridcolor": "white",
             "startlinecolor": "#2a3f5f"
            },
            "baxis": {
             "endlinecolor": "#2a3f5f",
             "gridcolor": "white",
             "linecolor": "white",
             "minorgridcolor": "white",
             "startlinecolor": "#2a3f5f"
            },
            "type": "carpet"
           }
          ],
          "choropleth": [
           {
            "colorbar": {
             "outlinewidth": 0,
             "ticks": ""
            },
            "type": "choropleth"
           }
          ],
          "contour": [
           {
            "colorbar": {
             "outlinewidth": 0,
             "ticks": ""
            },
            "colorscale": [
             [
              0,
              "#0d0887"
             ],
             [
              0.1111111111111111,
              "#46039f"
             ],
             [
              0.2222222222222222,
              "#7201a8"
             ],
             [
              0.3333333333333333,
              "#9c179e"
             ],
             [
              0.4444444444444444,
              "#bd3786"
             ],
             [
              0.5555555555555556,
              "#d8576b"
             ],
             [
              0.6666666666666666,
              "#ed7953"
             ],
             [
              0.7777777777777778,
              "#fb9f3a"
             ],
             [
              0.8888888888888888,
              "#fdca26"
             ],
             [
              1,
              "#f0f921"
             ]
            ],
            "type": "contour"
           }
          ],
          "contourcarpet": [
           {
            "colorbar": {
             "outlinewidth": 0,
             "ticks": ""
            },
            "type": "contourcarpet"
           }
          ],
          "heatmap": [
           {
            "colorbar": {
             "outlinewidth": 0,
             "ticks": ""
            },
            "colorscale": [
             [
              0,
              "#0d0887"
             ],
             [
              0.1111111111111111,
              "#46039f"
             ],
             [
              0.2222222222222222,
              "#7201a8"
             ],
             [
              0.3333333333333333,
              "#9c179e"
             ],
             [
              0.4444444444444444,
              "#bd3786"
             ],
             [
              0.5555555555555556,
              "#d8576b"
             ],
             [
              0.6666666666666666,
              "#ed7953"
             ],
             [
              0.7777777777777778,
              "#fb9f3a"
             ],
             [
              0.8888888888888888,
              "#fdca26"
             ],
             [
              1,
              "#f0f921"
             ]
            ],
            "type": "heatmap"
           }
          ],
          "histogram": [
           {
            "marker": {
             "pattern": {
              "fillmode": "overlay",
              "size": 10,
              "solidity": 0.2
             }
            },
            "type": "histogram"
           }
          ],
          "histogram2d": [
           {
            "colorbar": {
             "outlinewidth": 0,
             "ticks": ""
            },
            "colorscale": [
             [
              0,
              "#0d0887"
             ],
             [
              0.1111111111111111,
              "#46039f"
             ],
             [
              0.2222222222222222,
              "#7201a8"
             ],
             [
              0.3333333333333333,
              "#9c179e"
             ],
             [
              0.4444444444444444,
              "#bd3786"
             ],
             [
              0.5555555555555556,
              "#d8576b"
             ],
             [
              0.6666666666666666,
              "#ed7953"
             ],
             [
              0.7777777777777778,
              "#fb9f3a"
             ],
             [
              0.8888888888888888,
              "#fdca26"
             ],
             [
              1,
              "#f0f921"
             ]
            ],
            "type": "histogram2d"
           }
          ],
          "histogram2dcontour": [
           {
            "colorbar": {
             "outlinewidth": 0,
             "ticks": ""
            },
            "colorscale": [
             [
              0,
              "#0d0887"
             ],
             [
              0.1111111111111111,
              "#46039f"
             ],
             [
              0.2222222222222222,
              "#7201a8"
             ],
             [
              0.3333333333333333,
              "#9c179e"
             ],
             [
              0.4444444444444444,
              "#bd3786"
             ],
             [
              0.5555555555555556,
              "#d8576b"
             ],
             [
              0.6666666666666666,
              "#ed7953"
             ],
             [
              0.7777777777777778,
              "#fb9f3a"
             ],
             [
              0.8888888888888888,
              "#fdca26"
             ],
             [
              1,
              "#f0f921"
             ]
            ],
            "type": "histogram2dcontour"
           }
          ],
          "mesh3d": [
           {
            "colorbar": {
             "outlinewidth": 0,
             "ticks": ""
            },
            "type": "mesh3d"
           }
          ],
          "parcoords": [
           {
            "line": {
             "colorbar": {
              "outlinewidth": 0,
              "ticks": ""
             }
            },
            "type": "parcoords"
           }
          ],
          "pie": [
           {
            "automargin": true,
            "type": "pie"
           }
          ],
          "scatter": [
           {
            "fillpattern": {
             "fillmode": "overlay",
             "size": 10,
             "solidity": 0.2
            },
            "type": "scatter"
           }
          ],
          "scatter3d": [
           {
            "line": {
             "colorbar": {
              "outlinewidth": 0,
              "ticks": ""
             }
            },
            "marker": {
             "colorbar": {
              "outlinewidth": 0,
              "ticks": ""
             }
            },
            "type": "scatter3d"
           }
          ],
          "scattercarpet": [
           {
            "marker": {
             "colorbar": {
              "outlinewidth": 0,
              "ticks": ""
             }
            },
            "type": "scattercarpet"
           }
          ],
          "scattergeo": [
           {
            "marker": {
             "colorbar": {
              "outlinewidth": 0,
              "ticks": ""
             }
            },
            "type": "scattergeo"
           }
          ],
          "scattergl": [
           {
            "marker": {
             "colorbar": {
              "outlinewidth": 0,
              "ticks": ""
             }
            },
            "type": "scattergl"
           }
          ],
          "scattermap": [
           {
            "marker": {
             "colorbar": {
              "outlinewidth": 0,
              "ticks": ""
             }
            },
            "type": "scattermap"
           }
          ],
          "scattermapbox": [
           {
            "marker": {
             "colorbar": {
              "outlinewidth": 0,
              "ticks": ""
             }
            },
            "type": "scattermapbox"
           }
          ],
          "scatterpolar": [
           {
            "marker": {
             "colorbar": {
              "outlinewidth": 0,
              "ticks": ""
             }
            },
            "type": "scatterpolar"
           }
          ],
          "scatterpolargl": [
           {
            "marker": {
             "colorbar": {
              "outlinewidth": 0,
              "ticks": ""
             }
            },
            "type": "scatterpolargl"
           }
          ],
          "scatterternary": [
           {
            "marker": {
             "colorbar": {
              "outlinewidth": 0,
              "ticks": ""
             }
            },
            "type": "scatterternary"
           }
          ],
          "surface": [
           {
            "colorbar": {
             "outlinewidth": 0,
             "ticks": ""
            },
            "colorscale": [
             [
              0,
              "#0d0887"
             ],
             [
              0.1111111111111111,
              "#46039f"
             ],
             [
              0.2222222222222222,
              "#7201a8"
             ],
             [
              0.3333333333333333,
              "#9c179e"
             ],
             [
              0.4444444444444444,
              "#bd3786"
             ],
             [
              0.5555555555555556,
              "#d8576b"
             ],
             [
              0.6666666666666666,
              "#ed7953"
             ],
             [
              0.7777777777777778,
              "#fb9f3a"
             ],
             [
              0.8888888888888888,
              "#fdca26"
             ],
             [
              1,
              "#f0f921"
             ]
            ],
            "type": "surface"
           }
          ],
          "table": [
           {
            "cells": {
             "fill": {
              "color": "#EBF0F8"
             },
             "line": {
              "color": "white"
             }
            },
            "header": {
             "fill": {
              "color": "#C8D4E3"
             },
             "line": {
              "color": "white"
             }
            },
            "type": "table"
           }
          ]
         },
         "layout": {
          "annotationdefaults": {
           "arrowcolor": "#2a3f5f",
           "arrowhead": 0,
           "arrowwidth": 1
          },
          "autotypenumbers": "strict",
          "coloraxis": {
           "colorbar": {
            "outlinewidth": 0,
            "ticks": ""
           }
          },
          "colorscale": {
           "diverging": [
            [
             0,
             "#8e0152"
            ],
            [
             0.1,
             "#c51b7d"
            ],
            [
             0.2,
             "#de77ae"
            ],
            [
             0.3,
             "#f1b6da"
            ],
            [
             0.4,
             "#fde0ef"
            ],
            [
             0.5,
             "#f7f7f7"
            ],
            [
             0.6,
             "#e6f5d0"
            ],
            [
             0.7,
             "#b8e186"
            ],
            [
             0.8,
             "#7fbc41"
            ],
            [
             0.9,
             "#4d9221"
            ],
            [
             1,
             "#276419"
            ]
           ],
           "sequential": [
            [
             0,
             "#0d0887"
            ],
            [
             0.1111111111111111,
             "#46039f"
            ],
            [
             0.2222222222222222,
             "#7201a8"
            ],
            [
             0.3333333333333333,
             "#9c179e"
            ],
            [
             0.4444444444444444,
             "#bd3786"
            ],
            [
             0.5555555555555556,
             "#d8576b"
            ],
            [
             0.6666666666666666,
             "#ed7953"
            ],
            [
             0.7777777777777778,
             "#fb9f3a"
            ],
            [
             0.8888888888888888,
             "#fdca26"
            ],
            [
             1,
             "#f0f921"
            ]
           ],
           "sequentialminus": [
            [
             0,
             "#0d0887"
            ],
            [
             0.1111111111111111,
             "#46039f"
            ],
            [
             0.2222222222222222,
             "#7201a8"
            ],
            [
             0.3333333333333333,
             "#9c179e"
            ],
            [
             0.4444444444444444,
             "#bd3786"
            ],
            [
             0.5555555555555556,
             "#d8576b"
            ],
            [
             0.6666666666666666,
             "#ed7953"
            ],
            [
             0.7777777777777778,
             "#fb9f3a"
            ],
            [
             0.8888888888888888,
             "#fdca26"
            ],
            [
             1,
             "#f0f921"
            ]
           ]
          },
          "colorway": [
           "#636efa",
           "#EF553B",
           "#00cc96",
           "#ab63fa",
           "#FFA15A",
           "#19d3f3",
           "#FF6692",
           "#B6E880",
           "#FF97FF",
           "#FECB52"
          ],
          "font": {
           "color": "#2a3f5f"
          },
          "geo": {
           "bgcolor": "white",
           "lakecolor": "white",
           "landcolor": "#E5ECF6",
           "showlakes": true,
           "showland": true,
           "subunitcolor": "white"
          },
          "hoverlabel": {
           "align": "left"
          },
          "hovermode": "closest",
          "mapbox": {
           "style": "light"
          },
          "paper_bgcolor": "white",
          "plot_bgcolor": "#E5ECF6",
          "polar": {
           "angularaxis": {
            "gridcolor": "white",
            "linecolor": "white",
            "ticks": ""
           },
           "bgcolor": "#E5ECF6",
           "radialaxis": {
            "gridcolor": "white",
            "linecolor": "white",
            "ticks": ""
           }
          },
          "scene": {
           "xaxis": {
            "backgroundcolor": "#E5ECF6",
            "gridcolor": "white",
            "gridwidth": 2,
            "linecolor": "white",
            "showbackground": true,
            "ticks": "",
            "zerolinecolor": "white"
           },
           "yaxis": {
            "backgroundcolor": "#E5ECF6",
            "gridcolor": "white",
            "gridwidth": 2,
            "linecolor": "white",
            "showbackground": true,
            "ticks": "",
            "zerolinecolor": "white"
           },
           "zaxis": {
            "backgroundcolor": "#E5ECF6",
            "gridcolor": "white",
            "gridwidth": 2,
            "linecolor": "white",
            "showbackground": true,
            "ticks": "",
            "zerolinecolor": "white"
           }
          },
          "shapedefaults": {
           "line": {
            "color": "#2a3f5f"
           }
          },
          "ternary": {
           "aaxis": {
            "gridcolor": "white",
            "linecolor": "white",
            "ticks": ""
           },
           "baxis": {
            "gridcolor": "white",
            "linecolor": "white",
            "ticks": ""
           },
           "bgcolor": "#E5ECF6",
           "caxis": {
            "gridcolor": "white",
            "linecolor": "white",
            "ticks": ""
           }
          },
          "title": {
           "x": 0.05
          },
          "xaxis": {
           "automargin": true,
           "gridcolor": "white",
           "linecolor": "white",
           "ticks": "",
           "title": {
            "standoff": 15
           },
           "zerolinecolor": "white",
           "zerolinewidth": 2
          },
          "yaxis": {
           "automargin": true,
           "gridcolor": "white",
           "linecolor": "white",
           "ticks": "",
           "title": {
            "standoff": 15
           },
           "zerolinecolor": "white",
           "zerolinewidth": 2
          }
         }
        },
        "title": {
         "text": "Kérelmek alakulása és infláció"
        },
        "width": 700,
        "xaxis": {
         "anchor": "y",
         "domain": [
          0,
          1
         ],
         "linecolor": "black",
         "title": {
          "text": "Év"
         }
        },
        "yaxis": {
         "anchor": "x",
         "domain": [
          0,
          1
         ],
         "linecolor": "black",
         "title": {
          "text": "Kérelmek száma"
         }
        },
        "yaxis2": {
         "linecolor": "black",
         "overlaying": "y",
         "side": "right",
         "title": {
          "text": "Infláció (%)"
         }
        }
       }
      }
     },
     "metadata": {},
     "output_type": "display_data"
    }
   ],
   "source": [
    "# kérelemszám és inflációs adatok előkészítése a diagramhoz\n",
    "df_counts = df_subm.groupby(['Év', 'Kérelem']).size().reset_index(name='Darab')\n",
    "df_pivot = df_counts.pivot(index='Év', columns='Kérelem', values='Darab').fillna(0).reset_index()\n",
    "df_subm = df_subm.merge(df_infl, how='left', on='Év')\n",
    "df_infl = df_subm.groupby('Év')['Infláció'].mean().reset_index()\n",
    "\n",
    "# kérelmek és infláció ábrázolása\n",
    "fig = px.line(df_pivot, x='Év', \n",
    "              y=df_pivot.columns[1:], \n",
    "              markers=False,\n",
    "              title='Kérelmek alakulása és infláció')\n",
    "\n",
    "fig.add_trace(go.Scatter(x=df_infl['Év'], \n",
    "                         y=df_infl['Infláció'], \n",
    "                         mode='lines', \n",
    "                         name='Infláció (%)',\n",
    "                         line=dict(color='black', dash='dash')\n",
    "                        )\n",
    "             )\n",
    "\n",
    "# másodlagos y-tengely definiálása\n",
    "fig.update_layout(\n",
    "    width=700, height=500,  \n",
    "    plot_bgcolor='white',   \n",
    "    paper_bgcolor='white',\n",
    "    xaxis=dict(title='Év', linecolor='black'),\n",
    "    yaxis=dict(title='Kérelmek száma', linecolor='black'),\n",
    "    yaxis2=dict(title='Infláció (%)',  linecolor='black', overlaying='y', side='right'),\n",
    "    legend=dict(title='Kérelem típusa', orientation='h', y=-0.2)\n",
    ")\n",
    "\n",
    "# második y-tengely inflációhoz rendelése\n",
    "fig.data[-1].update(yaxis='y2')\n",
    "\n",
    "fig.show()"
   ]
  },
  {
   "cell_type": "code",
   "execution_count": 22,
   "metadata": {},
   "outputs": [
    {
     "data": {
      "text/html": [
       "<div>\n",
       "<style scoped>\n",
       "    .dataframe tbody tr th:only-of-type {\n",
       "        vertical-align: middle;\n",
       "    }\n",
       "\n",
       "    .dataframe tbody tr th {\n",
       "        vertical-align: top;\n",
       "    }\n",
       "\n",
       "    .dataframe thead th {\n",
       "        text-align: right;\n",
       "    }\n",
       "</style>\n",
       "<table border=\"1\" class=\"dataframe\">\n",
       "  <thead>\n",
       "    <tr style=\"text-align: right;\">\n",
       "      <th></th>\n",
       "      <th>Eszköz</th>\n",
       "    </tr>\n",
       "    <tr>\n",
       "      <th>Kérelem</th>\n",
       "      <th></th>\n",
       "    </tr>\n",
       "  </thead>\n",
       "  <tbody>\n",
       "    <tr>\n",
       "      <th>törlés (bg)</th>\n",
       "      <td>1501</td>\n",
       "    </tr>\n",
       "    <tr>\n",
       "      <th>áremelés (bf)</th>\n",
       "      <td>306</td>\n",
       "    </tr>\n",
       "    <tr>\n",
       "      <th>új termék (aa)</th>\n",
       "      <td>1294</td>\n",
       "    </tr>\n",
       "  </tbody>\n",
       "</table>\n",
       "</div>"
      ],
      "text/plain": [
       "                Eszköz\n",
       "Kérelem               \n",
       "törlés (bg)       1501\n",
       "áremelés (bf)      306\n",
       "új termék (aa)    1294"
      ]
     },
     "execution_count": 22,
     "metadata": {},
     "output_type": "execute_result"
    }
   ],
   "source": [
    "# összes kérelem típusonként a teljes időszakban \n",
    "df_subm[['Kérelem', 'Eszköz']].groupby('Kérelem').count()"
   ]
  },
  {
   "cell_type": "code",
   "execution_count": 23,
   "metadata": {},
   "outputs": [
    {
     "data": {
      "text/html": [
       "<div>\n",
       "<style scoped>\n",
       "    .dataframe tbody tr th:only-of-type {\n",
       "        vertical-align: middle;\n",
       "    }\n",
       "\n",
       "    .dataframe tbody tr th {\n",
       "        vertical-align: top;\n",
       "    }\n",
       "\n",
       "    .dataframe thead th {\n",
       "        text-align: right;\n",
       "    }\n",
       "</style>\n",
       "<table border=\"1\" class=\"dataframe\">\n",
       "  <thead>\n",
       "    <tr style=\"text-align: right;\">\n",
       "      <th></th>\n",
       "      <th>Év</th>\n",
       "      <th>Kérelem</th>\n",
       "      <th>törlés (bg)</th>\n",
       "      <th>áremelés (bf)</th>\n",
       "      <th>új termék (aa)</th>\n",
       "      <th>Infláció</th>\n",
       "    </tr>\n",
       "  </thead>\n",
       "  <tbody>\n",
       "    <tr>\n",
       "      <th>0</th>\n",
       "      <td>2012</td>\n",
       "      <td>2</td>\n",
       "      <td>0</td>\n",
       "      <td>0</td>\n",
       "      <td>2</td>\n",
       "      <td>105.7</td>\n",
       "    </tr>\n",
       "    <tr>\n",
       "      <th>1</th>\n",
       "      <td>2013</td>\n",
       "      <td>141</td>\n",
       "      <td>41</td>\n",
       "      <td>2</td>\n",
       "      <td>98</td>\n",
       "      <td>101.7</td>\n",
       "    </tr>\n",
       "    <tr>\n",
       "      <th>2</th>\n",
       "      <td>2014</td>\n",
       "      <td>285</td>\n",
       "      <td>127</td>\n",
       "      <td>31</td>\n",
       "      <td>127</td>\n",
       "      <td>99.8</td>\n",
       "    </tr>\n",
       "    <tr>\n",
       "      <th>3</th>\n",
       "      <td>2015</td>\n",
       "      <td>241</td>\n",
       "      <td>155</td>\n",
       "      <td>3</td>\n",
       "      <td>83</td>\n",
       "      <td>99.9</td>\n",
       "    </tr>\n",
       "    <tr>\n",
       "      <th>4</th>\n",
       "      <td>2016</td>\n",
       "      <td>204</td>\n",
       "      <td>75</td>\n",
       "      <td>0</td>\n",
       "      <td>129</td>\n",
       "      <td>100.4</td>\n",
       "    </tr>\n",
       "  </tbody>\n",
       "</table>\n",
       "</div>"
      ],
      "text/plain": [
       "     Év  Kérelem  törlés (bg)  áremelés (bf)  új termék (aa)  Infláció\n",
       "0  2012        2            0              0               2     105.7\n",
       "1  2013      141           41              2              98     101.7\n",
       "2  2014      285          127             31             127      99.8\n",
       "3  2015      241          155              3              83      99.9\n",
       "4  2016      204           75              0             129     100.4"
      ]
     },
     "execution_count": 23,
     "metadata": {},
     "output_type": "execute_result"
    }
   ],
   "source": [
    "# korreláció számításához a kérelmek és az infláció előkészítése\n",
    "df_corr = df_subm[['Év', 'Kérelem']].groupby(['Év']).count()\n",
    "df_corr = df_corr.merge(df_subm.groupby(['Év', 'Kérelem']).size().unstack(fill_value=0), on = 'Év')\n",
    "df_corr = df_corr.merge(df_infl, how='left', on='Év')\n",
    "df_corr.head()"
   ]
  },
  {
   "cell_type": "code",
   "execution_count": 24,
   "metadata": {
    "id": "ynzcVjNdLWiU"
   },
   "outputs": [
    {
     "data": {
      "application/vnd.plotly.v1+json": {
       "config": {
        "plotlyServerURL": "https://plot.ly"
       },
       "data": [
        {
         "coloraxis": "coloraxis",
         "hovertemplate": "x: %{x}<br>y: %{y}<br>Korreláció: %{z}<extra></extra>",
         "name": "0",
         "texttemplate": "%{z}",
         "type": "heatmap",
         "x": [
          "Kérelem",
          "törlés (bg)",
          "áremelés (bf)",
          "új termék (aa)",
          "Infláció"
         ],
         "xaxis": "x",
         "y": [
          "Kérelem",
          "törlés (bg)",
          "áremelés (bf)",
          "új termék (aa)",
          "Infláció"
         ],
         "yaxis": "y",
         "z": {
          "bdata": "AAAAAAAA8D8OYcTf06TtP9eoG0xQIOo/mIjFLOgG5T8yaItXE9jgPw5hxN/TpO0/AAAAAAAA8D9zfSpIhYzpP0nlc8ukfdc/o/lspSlP4T/XqBtMUCDqP3N9KkiFjOk/AAAAAAAA8D8+l7mCbs/OP1PcoU067+g/mIjFLOgG5T9J5XPLpH3XPz6XuYJuz84/AAAAAAAA8D9wHiSscBl2PzJoi1cT2OA/o/lspSlP4T9T3KFNOu/oP3AeJKxwGXY/AAAAAAAA8D8=",
          "dtype": "f8",
          "shape": "5, 5"
         }
        }
       ],
       "layout": {
        "coloraxis": {
         "cmax": 1,
         "cmin": -1,
         "colorbar": {
          "title": {
           "text": "Korreláció"
          }
         },
         "colorscale": [
          [
           0,
           "brown"
          ],
          [
           0.5,
           "white"
          ],
          [
           1,
           "purple"
          ]
         ]
        },
        "height": 500,
        "template": {
         "data": {
          "bar": [
           {
            "error_x": {
             "color": "#2a3f5f"
            },
            "error_y": {
             "color": "#2a3f5f"
            },
            "marker": {
             "line": {
              "color": "#E5ECF6",
              "width": 0.5
             },
             "pattern": {
              "fillmode": "overlay",
              "size": 10,
              "solidity": 0.2
             }
            },
            "type": "bar"
           }
          ],
          "barpolar": [
           {
            "marker": {
             "line": {
              "color": "#E5ECF6",
              "width": 0.5
             },
             "pattern": {
              "fillmode": "overlay",
              "size": 10,
              "solidity": 0.2
             }
            },
            "type": "barpolar"
           }
          ],
          "carpet": [
           {
            "aaxis": {
             "endlinecolor": "#2a3f5f",
             "gridcolor": "white",
             "linecolor": "white",
             "minorgridcolor": "white",
             "startlinecolor": "#2a3f5f"
            },
            "baxis": {
             "endlinecolor": "#2a3f5f",
             "gridcolor": "white",
             "linecolor": "white",
             "minorgridcolor": "white",
             "startlinecolor": "#2a3f5f"
            },
            "type": "carpet"
           }
          ],
          "choropleth": [
           {
            "colorbar": {
             "outlinewidth": 0,
             "ticks": ""
            },
            "type": "choropleth"
           }
          ],
          "contour": [
           {
            "colorbar": {
             "outlinewidth": 0,
             "ticks": ""
            },
            "colorscale": [
             [
              0,
              "#0d0887"
             ],
             [
              0.1111111111111111,
              "#46039f"
             ],
             [
              0.2222222222222222,
              "#7201a8"
             ],
             [
              0.3333333333333333,
              "#9c179e"
             ],
             [
              0.4444444444444444,
              "#bd3786"
             ],
             [
              0.5555555555555556,
              "#d8576b"
             ],
             [
              0.6666666666666666,
              "#ed7953"
             ],
             [
              0.7777777777777778,
              "#fb9f3a"
             ],
             [
              0.8888888888888888,
              "#fdca26"
             ],
             [
              1,
              "#f0f921"
             ]
            ],
            "type": "contour"
           }
          ],
          "contourcarpet": [
           {
            "colorbar": {
             "outlinewidth": 0,
             "ticks": ""
            },
            "type": "contourcarpet"
           }
          ],
          "heatmap": [
           {
            "colorbar": {
             "outlinewidth": 0,
             "ticks": ""
            },
            "colorscale": [
             [
              0,
              "#0d0887"
             ],
             [
              0.1111111111111111,
              "#46039f"
             ],
             [
              0.2222222222222222,
              "#7201a8"
             ],
             [
              0.3333333333333333,
              "#9c179e"
             ],
             [
              0.4444444444444444,
              "#bd3786"
             ],
             [
              0.5555555555555556,
              "#d8576b"
             ],
             [
              0.6666666666666666,
              "#ed7953"
             ],
             [
              0.7777777777777778,
              "#fb9f3a"
             ],
             [
              0.8888888888888888,
              "#fdca26"
             ],
             [
              1,
              "#f0f921"
             ]
            ],
            "type": "heatmap"
           }
          ],
          "histogram": [
           {
            "marker": {
             "pattern": {
              "fillmode": "overlay",
              "size": 10,
              "solidity": 0.2
             }
            },
            "type": "histogram"
           }
          ],
          "histogram2d": [
           {
            "colorbar": {
             "outlinewidth": 0,
             "ticks": ""
            },
            "colorscale": [
             [
              0,
              "#0d0887"
             ],
             [
              0.1111111111111111,
              "#46039f"
             ],
             [
              0.2222222222222222,
              "#7201a8"
             ],
             [
              0.3333333333333333,
              "#9c179e"
             ],
             [
              0.4444444444444444,
              "#bd3786"
             ],
             [
              0.5555555555555556,
              "#d8576b"
             ],
             [
              0.6666666666666666,
              "#ed7953"
             ],
             [
              0.7777777777777778,
              "#fb9f3a"
             ],
             [
              0.8888888888888888,
              "#fdca26"
             ],
             [
              1,
              "#f0f921"
             ]
            ],
            "type": "histogram2d"
           }
          ],
          "histogram2dcontour": [
           {
            "colorbar": {
             "outlinewidth": 0,
             "ticks": ""
            },
            "colorscale": [
             [
              0,
              "#0d0887"
             ],
             [
              0.1111111111111111,
              "#46039f"
             ],
             [
              0.2222222222222222,
              "#7201a8"
             ],
             [
              0.3333333333333333,
              "#9c179e"
             ],
             [
              0.4444444444444444,
              "#bd3786"
             ],
             [
              0.5555555555555556,
              "#d8576b"
             ],
             [
              0.6666666666666666,
              "#ed7953"
             ],
             [
              0.7777777777777778,
              "#fb9f3a"
             ],
             [
              0.8888888888888888,
              "#fdca26"
             ],
             [
              1,
              "#f0f921"
             ]
            ],
            "type": "histogram2dcontour"
           }
          ],
          "mesh3d": [
           {
            "colorbar": {
             "outlinewidth": 0,
             "ticks": ""
            },
            "type": "mesh3d"
           }
          ],
          "parcoords": [
           {
            "line": {
             "colorbar": {
              "outlinewidth": 0,
              "ticks": ""
             }
            },
            "type": "parcoords"
           }
          ],
          "pie": [
           {
            "automargin": true,
            "type": "pie"
           }
          ],
          "scatter": [
           {
            "fillpattern": {
             "fillmode": "overlay",
             "size": 10,
             "solidity": 0.2
            },
            "type": "scatter"
           }
          ],
          "scatter3d": [
           {
            "line": {
             "colorbar": {
              "outlinewidth": 0,
              "ticks": ""
             }
            },
            "marker": {
             "colorbar": {
              "outlinewidth": 0,
              "ticks": ""
             }
            },
            "type": "scatter3d"
           }
          ],
          "scattercarpet": [
           {
            "marker": {
             "colorbar": {
              "outlinewidth": 0,
              "ticks": ""
             }
            },
            "type": "scattercarpet"
           }
          ],
          "scattergeo": [
           {
            "marker": {
             "colorbar": {
              "outlinewidth": 0,
              "ticks": ""
             }
            },
            "type": "scattergeo"
           }
          ],
          "scattergl": [
           {
            "marker": {
             "colorbar": {
              "outlinewidth": 0,
              "ticks": ""
             }
            },
            "type": "scattergl"
           }
          ],
          "scattermap": [
           {
            "marker": {
             "colorbar": {
              "outlinewidth": 0,
              "ticks": ""
             }
            },
            "type": "scattermap"
           }
          ],
          "scattermapbox": [
           {
            "marker": {
             "colorbar": {
              "outlinewidth": 0,
              "ticks": ""
             }
            },
            "type": "scattermapbox"
           }
          ],
          "scatterpolar": [
           {
            "marker": {
             "colorbar": {
              "outlinewidth": 0,
              "ticks": ""
             }
            },
            "type": "scatterpolar"
           }
          ],
          "scatterpolargl": [
           {
            "marker": {
             "colorbar": {
              "outlinewidth": 0,
              "ticks": ""
             }
            },
            "type": "scatterpolargl"
           }
          ],
          "scatterternary": [
           {
            "marker": {
             "colorbar": {
              "outlinewidth": 0,
              "ticks": ""
             }
            },
            "type": "scatterternary"
           }
          ],
          "surface": [
           {
            "colorbar": {
             "outlinewidth": 0,
             "ticks": ""
            },
            "colorscale": [
             [
              0,
              "#0d0887"
             ],
             [
              0.1111111111111111,
              "#46039f"
             ],
             [
              0.2222222222222222,
              "#7201a8"
             ],
             [
              0.3333333333333333,
              "#9c179e"
             ],
             [
              0.4444444444444444,
              "#bd3786"
             ],
             [
              0.5555555555555556,
              "#d8576b"
             ],
             [
              0.6666666666666666,
              "#ed7953"
             ],
             [
              0.7777777777777778,
              "#fb9f3a"
             ],
             [
              0.8888888888888888,
              "#fdca26"
             ],
             [
              1,
              "#f0f921"
             ]
            ],
            "type": "surface"
           }
          ],
          "table": [
           {
            "cells": {
             "fill": {
              "color": "#EBF0F8"
             },
             "line": {
              "color": "white"
             }
            },
            "header": {
             "fill": {
              "color": "#C8D4E3"
             },
             "line": {
              "color": "white"
             }
            },
            "type": "table"
           }
          ]
         },
         "layout": {
          "annotationdefaults": {
           "arrowcolor": "#2a3f5f",
           "arrowhead": 0,
           "arrowwidth": 1
          },
          "autotypenumbers": "strict",
          "coloraxis": {
           "colorbar": {
            "outlinewidth": 0,
            "ticks": ""
           }
          },
          "colorscale": {
           "diverging": [
            [
             0,
             "#8e0152"
            ],
            [
             0.1,
             "#c51b7d"
            ],
            [
             0.2,
             "#de77ae"
            ],
            [
             0.3,
             "#f1b6da"
            ],
            [
             0.4,
             "#fde0ef"
            ],
            [
             0.5,
             "#f7f7f7"
            ],
            [
             0.6,
             "#e6f5d0"
            ],
            [
             0.7,
             "#b8e186"
            ],
            [
             0.8,
             "#7fbc41"
            ],
            [
             0.9,
             "#4d9221"
            ],
            [
             1,
             "#276419"
            ]
           ],
           "sequential": [
            [
             0,
             "#0d0887"
            ],
            [
             0.1111111111111111,
             "#46039f"
            ],
            [
             0.2222222222222222,
             "#7201a8"
            ],
            [
             0.3333333333333333,
             "#9c179e"
            ],
            [
             0.4444444444444444,
             "#bd3786"
            ],
            [
             0.5555555555555556,
             "#d8576b"
            ],
            [
             0.6666666666666666,
             "#ed7953"
            ],
            [
             0.7777777777777778,
             "#fb9f3a"
            ],
            [
             0.8888888888888888,
             "#fdca26"
            ],
            [
             1,
             "#f0f921"
            ]
           ],
           "sequentialminus": [
            [
             0,
             "#0d0887"
            ],
            [
             0.1111111111111111,
             "#46039f"
            ],
            [
             0.2222222222222222,
             "#7201a8"
            ],
            [
             0.3333333333333333,
             "#9c179e"
            ],
            [
             0.4444444444444444,
             "#bd3786"
            ],
            [
             0.5555555555555556,
             "#d8576b"
            ],
            [
             0.6666666666666666,
             "#ed7953"
            ],
            [
             0.7777777777777778,
             "#fb9f3a"
            ],
            [
             0.8888888888888888,
             "#fdca26"
            ],
            [
             1,
             "#f0f921"
            ]
           ]
          },
          "colorway": [
           "#636efa",
           "#EF553B",
           "#00cc96",
           "#ab63fa",
           "#FFA15A",
           "#19d3f3",
           "#FF6692",
           "#B6E880",
           "#FF97FF",
           "#FECB52"
          ],
          "font": {
           "color": "#2a3f5f"
          },
          "geo": {
           "bgcolor": "white",
           "lakecolor": "white",
           "landcolor": "#E5ECF6",
           "showlakes": true,
           "showland": true,
           "subunitcolor": "white"
          },
          "hoverlabel": {
           "align": "left"
          },
          "hovermode": "closest",
          "mapbox": {
           "style": "light"
          },
          "paper_bgcolor": "white",
          "plot_bgcolor": "#E5ECF6",
          "polar": {
           "angularaxis": {
            "gridcolor": "white",
            "linecolor": "white",
            "ticks": ""
           },
           "bgcolor": "#E5ECF6",
           "radialaxis": {
            "gridcolor": "white",
            "linecolor": "white",
            "ticks": ""
           }
          },
          "scene": {
           "xaxis": {
            "backgroundcolor": "#E5ECF6",
            "gridcolor": "white",
            "gridwidth": 2,
            "linecolor": "white",
            "showbackground": true,
            "ticks": "",
            "zerolinecolor": "white"
           },
           "yaxis": {
            "backgroundcolor": "#E5ECF6",
            "gridcolor": "white",
            "gridwidth": 2,
            "linecolor": "white",
            "showbackground": true,
            "ticks": "",
            "zerolinecolor": "white"
           },
           "zaxis": {
            "backgroundcolor": "#E5ECF6",
            "gridcolor": "white",
            "gridwidth": 2,
            "linecolor": "white",
            "showbackground": true,
            "ticks": "",
            "zerolinecolor": "white"
           }
          },
          "shapedefaults": {
           "line": {
            "color": "#2a3f5f"
           }
          },
          "ternary": {
           "aaxis": {
            "gridcolor": "white",
            "linecolor": "white",
            "ticks": ""
           },
           "baxis": {
            "gridcolor": "white",
            "linecolor": "white",
            "ticks": ""
           },
           "bgcolor": "#E5ECF6",
           "caxis": {
            "gridcolor": "white",
            "linecolor": "white",
            "ticks": ""
           }
          },
          "title": {
           "x": 0.05
          },
          "xaxis": {
           "automargin": true,
           "gridcolor": "white",
           "linecolor": "white",
           "ticks": "",
           "title": {
            "standoff": 15
           },
           "zerolinecolor": "white",
           "zerolinewidth": 2
          },
          "yaxis": {
           "automargin": true,
           "gridcolor": "white",
           "linecolor": "white",
           "ticks": "",
           "title": {
            "standoff": 15
           },
           "zerolinecolor": "white",
           "zerolinewidth": 2
          }
         }
        },
        "title": {
         "text": "Korreláció a kérelem típusa és az infláció között"
        },
        "width": 650,
        "xaxis": {
         "anchor": "y",
         "domain": [
          0,
          1
         ]
        },
        "yaxis": {
         "anchor": "x",
         "autorange": "reversed",
         "domain": [
          0,
          1
         ]
        }
       }
      }
     },
     "metadata": {},
     "output_type": "display_data"
    }
   ],
   "source": [
    "# korrelációs mátrix\n",
    "corr_matrix = df_corr[['Kérelem', 'törlés (bg)', 'áremelés (bf)', 'új termék (aa)', 'Infláció']].corr()\n",
    "\n",
    "# korrelációs hőtérkép\n",
    "fig = px.imshow(corr_matrix, text_auto=True, aspect='auto',\n",
    "                labels=dict(color='Korreláció'),\n",
    "                x=corr_matrix.columns,\n",
    "                y=corr_matrix.columns,\n",
    "                width = 650, height = 500,\n",
    "                title='Korreláció a kérelem típusa és az infláció között',\n",
    "                color_continuous_scale=[(0.00, 'brown'), (0.50, 'white'), (1.00, 'purple')])\n",
    "\n",
    "fig.update_coloraxes(cmin=-1, cmax=1)\n",
    "\n",
    "fig.show()"
   ]
  },
  {
   "cell_type": "markdown",
   "metadata": {},
   "source": [
    "#### Áremelési kérelmek"
   ]
  },
  {
   "cell_type": "code",
   "execution_count": 25,
   "metadata": {},
   "outputs": [],
   "source": [
    "# korreláció számításához az áremelési kérelmek és az infláció előkészítése\n",
    "df_corr_bf_cs = (df_subm.loc[df_subm['Kérelem'] == 'áremelés (bf)'].groupby(['Év', 'Csoport']).size().unstack(fill_value=0))\n",
    "df_corr_bf_cs = df_corr_bf_cs.merge(df_infl, how='inner', on='Év')"
   ]
  },
  {
   "cell_type": "code",
   "execution_count": 26,
   "metadata": {},
   "outputs": [
    {
     "data": {
      "application/vnd.plotly.v1+json": {
       "config": {
        "plotlyServerURL": "https://plot.ly"
       },
       "data": [
        {
         "coloraxis": "coloraxis",
         "hovertemplate": "x: %{x}<br>y: %{y}<br>Korreláció: %{z}<extra></extra>",
         "name": "0",
         "texttemplate": "%{z}",
         "type": "heatmap",
         "x": [
          "bútor",
          "járás/moped/kerekesszék/tájékozódás",
          "kötszer",
          "látás/hallás/jeladás",
          "ortézis/protézis/ortopéd cipő",
          "ruha/védelem/higiéné",
          "személyes gyógykezelés",
          "Infláció"
         ],
         "xaxis": "x",
         "y": [
          "bútor",
          "járás/moped/kerekesszék/tájékozódás",
          "kötszer",
          "látás/hallás/jeladás",
          "ortézis/protézis/ortopéd cipő",
          "ruha/védelem/higiéné",
          "személyes gyógykezelés",
          "Infláció"
         ],
         "yaxis": "y",
         "z": {
          "bdata": "AAAAAAAA8D+dKPKc9qu6v138Rv/4SdG/xyfK/Qr2wr8k11DMLLniPzly+C10TMi/BLLMbD1Txb96t13TD12/v50o8pz2q7q/AAAAAAAA8D/cOeUts7TKv61W6Qr7usW/WjDHU4mr4j8UBnTHoL2+v24w/NUoCru/2IDXrgCwI79d/Eb/+EnRv9w55S2ztMq/AAAAAAAA8D9vOMXKmqXLPwMzj2+TH6s/T4v1yHMR3j/vKYYE18/cP9NvxTASaNw/xyfK/Qr2wr+tVukK+7rFv284xcqapcs/AAAAAAAA8D9YAm9mCuDSv9LjZzKc0ec/p+o1feXjzT+Pc1675n/hPyTXUMwsueI/WjDHU4mr4j8DM49vkx+rP1gCb2YK4NK/AAAAAAAA8D9bV60tVBe7v4WvwF948pK/MP220GTwnT85cvgtdEzIvxQGdMegvb6/T4v1yHMR3j/S42cynNHnP1tXrS1UF7u/AAAAAAAA8D9RSDct/2/WP8SXHLLbGuw/BLLMbD1Txb9uMPzVKAq7v+8phgTXz9w/p+o1feXjzT+Fr8BfePKSv1FINy3/b9Y/AAAAAAAA8D8rJH9OLT7GP3q3XdMPXb+/2IDXrgCwI7/Tb8UwEmjcP49zXrvmf+E/MP220GTwnT/Elxyy2xrsPyskf04tPsY/AAAAAAAA8D8=",
          "dtype": "f8",
          "shape": "8, 8"
         }
        }
       ],
       "layout": {
        "coloraxis": {
         "cmax": 1,
         "cmin": -1,
         "colorbar": {
          "title": {
           "text": "Korreláció"
          }
         },
         "colorscale": [
          [
           0,
           "brown"
          ],
          [
           0.5,
           "white"
          ],
          [
           1,
           "purple"
          ]
         ]
        },
        "height": 600,
        "template": {
         "data": {
          "bar": [
           {
            "error_x": {
             "color": "#2a3f5f"
            },
            "error_y": {
             "color": "#2a3f5f"
            },
            "marker": {
             "line": {
              "color": "#E5ECF6",
              "width": 0.5
             },
             "pattern": {
              "fillmode": "overlay",
              "size": 10,
              "solidity": 0.2
             }
            },
            "type": "bar"
           }
          ],
          "barpolar": [
           {
            "marker": {
             "line": {
              "color": "#E5ECF6",
              "width": 0.5
             },
             "pattern": {
              "fillmode": "overlay",
              "size": 10,
              "solidity": 0.2
             }
            },
            "type": "barpolar"
           }
          ],
          "carpet": [
           {
            "aaxis": {
             "endlinecolor": "#2a3f5f",
             "gridcolor": "white",
             "linecolor": "white",
             "minorgridcolor": "white",
             "startlinecolor": "#2a3f5f"
            },
            "baxis": {
             "endlinecolor": "#2a3f5f",
             "gridcolor": "white",
             "linecolor": "white",
             "minorgridcolor": "white",
             "startlinecolor": "#2a3f5f"
            },
            "type": "carpet"
           }
          ],
          "choropleth": [
           {
            "colorbar": {
             "outlinewidth": 0,
             "ticks": ""
            },
            "type": "choropleth"
           }
          ],
          "contour": [
           {
            "colorbar": {
             "outlinewidth": 0,
             "ticks": ""
            },
            "colorscale": [
             [
              0,
              "#0d0887"
             ],
             [
              0.1111111111111111,
              "#46039f"
             ],
             [
              0.2222222222222222,
              "#7201a8"
             ],
             [
              0.3333333333333333,
              "#9c179e"
             ],
             [
              0.4444444444444444,
              "#bd3786"
             ],
             [
              0.5555555555555556,
              "#d8576b"
             ],
             [
              0.6666666666666666,
              "#ed7953"
             ],
             [
              0.7777777777777778,
              "#fb9f3a"
             ],
             [
              0.8888888888888888,
              "#fdca26"
             ],
             [
              1,
              "#f0f921"
             ]
            ],
            "type": "contour"
           }
          ],
          "contourcarpet": [
           {
            "colorbar": {
             "outlinewidth": 0,
             "ticks": ""
            },
            "type": "contourcarpet"
           }
          ],
          "heatmap": [
           {
            "colorbar": {
             "outlinewidth": 0,
             "ticks": ""
            },
            "colorscale": [
             [
              0,
              "#0d0887"
             ],
             [
              0.1111111111111111,
              "#46039f"
             ],
             [
              0.2222222222222222,
              "#7201a8"
             ],
             [
              0.3333333333333333,
              "#9c179e"
             ],
             [
              0.4444444444444444,
              "#bd3786"
             ],
             [
              0.5555555555555556,
              "#d8576b"
             ],
             [
              0.6666666666666666,
              "#ed7953"
             ],
             [
              0.7777777777777778,
              "#fb9f3a"
             ],
             [
              0.8888888888888888,
              "#fdca26"
             ],
             [
              1,
              "#f0f921"
             ]
            ],
            "type": "heatmap"
           }
          ],
          "histogram": [
           {
            "marker": {
             "pattern": {
              "fillmode": "overlay",
              "size": 10,
              "solidity": 0.2
             }
            },
            "type": "histogram"
           }
          ],
          "histogram2d": [
           {
            "colorbar": {
             "outlinewidth": 0,
             "ticks": ""
            },
            "colorscale": [
             [
              0,
              "#0d0887"
             ],
             [
              0.1111111111111111,
              "#46039f"
             ],
             [
              0.2222222222222222,
              "#7201a8"
             ],
             [
              0.3333333333333333,
              "#9c179e"
             ],
             [
              0.4444444444444444,
              "#bd3786"
             ],
             [
              0.5555555555555556,
              "#d8576b"
             ],
             [
              0.6666666666666666,
              "#ed7953"
             ],
             [
              0.7777777777777778,
              "#fb9f3a"
             ],
             [
              0.8888888888888888,
              "#fdca26"
             ],
             [
              1,
              "#f0f921"
             ]
            ],
            "type": "histogram2d"
           }
          ],
          "histogram2dcontour": [
           {
            "colorbar": {
             "outlinewidth": 0,
             "ticks": ""
            },
            "colorscale": [
             [
              0,
              "#0d0887"
             ],
             [
              0.1111111111111111,
              "#46039f"
             ],
             [
              0.2222222222222222,
              "#7201a8"
             ],
             [
              0.3333333333333333,
              "#9c179e"
             ],
             [
              0.4444444444444444,
              "#bd3786"
             ],
             [
              0.5555555555555556,
              "#d8576b"
             ],
             [
              0.6666666666666666,
              "#ed7953"
             ],
             [
              0.7777777777777778,
              "#fb9f3a"
             ],
             [
              0.8888888888888888,
              "#fdca26"
             ],
             [
              1,
              "#f0f921"
             ]
            ],
            "type": "histogram2dcontour"
           }
          ],
          "mesh3d": [
           {
            "colorbar": {
             "outlinewidth": 0,
             "ticks": ""
            },
            "type": "mesh3d"
           }
          ],
          "parcoords": [
           {
            "line": {
             "colorbar": {
              "outlinewidth": 0,
              "ticks": ""
             }
            },
            "type": "parcoords"
           }
          ],
          "pie": [
           {
            "automargin": true,
            "type": "pie"
           }
          ],
          "scatter": [
           {
            "fillpattern": {
             "fillmode": "overlay",
             "size": 10,
             "solidity": 0.2
            },
            "type": "scatter"
           }
          ],
          "scatter3d": [
           {
            "line": {
             "colorbar": {
              "outlinewidth": 0,
              "ticks": ""
             }
            },
            "marker": {
             "colorbar": {
              "outlinewidth": 0,
              "ticks": ""
             }
            },
            "type": "scatter3d"
           }
          ],
          "scattercarpet": [
           {
            "marker": {
             "colorbar": {
              "outlinewidth": 0,
              "ticks": ""
             }
            },
            "type": "scattercarpet"
           }
          ],
          "scattergeo": [
           {
            "marker": {
             "colorbar": {
              "outlinewidth": 0,
              "ticks": ""
             }
            },
            "type": "scattergeo"
           }
          ],
          "scattergl": [
           {
            "marker": {
             "colorbar": {
              "outlinewidth": 0,
              "ticks": ""
             }
            },
            "type": "scattergl"
           }
          ],
          "scattermap": [
           {
            "marker": {
             "colorbar": {
              "outlinewidth": 0,
              "ticks": ""
             }
            },
            "type": "scattermap"
           }
          ],
          "scattermapbox": [
           {
            "marker": {
             "colorbar": {
              "outlinewidth": 0,
              "ticks": ""
             }
            },
            "type": "scattermapbox"
           }
          ],
          "scatterpolar": [
           {
            "marker": {
             "colorbar": {
              "outlinewidth": 0,
              "ticks": ""
             }
            },
            "type": "scatterpolar"
           }
          ],
          "scatterpolargl": [
           {
            "marker": {
             "colorbar": {
              "outlinewidth": 0,
              "ticks": ""
             }
            },
            "type": "scatterpolargl"
           }
          ],
          "scatterternary": [
           {
            "marker": {
             "colorbar": {
              "outlinewidth": 0,
              "ticks": ""
             }
            },
            "type": "scatterternary"
           }
          ],
          "surface": [
           {
            "colorbar": {
             "outlinewidth": 0,
             "ticks": ""
            },
            "colorscale": [
             [
              0,
              "#0d0887"
             ],
             [
              0.1111111111111111,
              "#46039f"
             ],
             [
              0.2222222222222222,
              "#7201a8"
             ],
             [
              0.3333333333333333,
              "#9c179e"
             ],
             [
              0.4444444444444444,
              "#bd3786"
             ],
             [
              0.5555555555555556,
              "#d8576b"
             ],
             [
              0.6666666666666666,
              "#ed7953"
             ],
             [
              0.7777777777777778,
              "#fb9f3a"
             ],
             [
              0.8888888888888888,
              "#fdca26"
             ],
             [
              1,
              "#f0f921"
             ]
            ],
            "type": "surface"
           }
          ],
          "table": [
           {
            "cells": {
             "fill": {
              "color": "#EBF0F8"
             },
             "line": {
              "color": "white"
             }
            },
            "header": {
             "fill": {
              "color": "#C8D4E3"
             },
             "line": {
              "color": "white"
             }
            },
            "type": "table"
           }
          ]
         },
         "layout": {
          "annotationdefaults": {
           "arrowcolor": "#2a3f5f",
           "arrowhead": 0,
           "arrowwidth": 1
          },
          "autotypenumbers": "strict",
          "coloraxis": {
           "colorbar": {
            "outlinewidth": 0,
            "ticks": ""
           }
          },
          "colorscale": {
           "diverging": [
            [
             0,
             "#8e0152"
            ],
            [
             0.1,
             "#c51b7d"
            ],
            [
             0.2,
             "#de77ae"
            ],
            [
             0.3,
             "#f1b6da"
            ],
            [
             0.4,
             "#fde0ef"
            ],
            [
             0.5,
             "#f7f7f7"
            ],
            [
             0.6,
             "#e6f5d0"
            ],
            [
             0.7,
             "#b8e186"
            ],
            [
             0.8,
             "#7fbc41"
            ],
            [
             0.9,
             "#4d9221"
            ],
            [
             1,
             "#276419"
            ]
           ],
           "sequential": [
            [
             0,
             "#0d0887"
            ],
            [
             0.1111111111111111,
             "#46039f"
            ],
            [
             0.2222222222222222,
             "#7201a8"
            ],
            [
             0.3333333333333333,
             "#9c179e"
            ],
            [
             0.4444444444444444,
             "#bd3786"
            ],
            [
             0.5555555555555556,
             "#d8576b"
            ],
            [
             0.6666666666666666,
             "#ed7953"
            ],
            [
             0.7777777777777778,
             "#fb9f3a"
            ],
            [
             0.8888888888888888,
             "#fdca26"
            ],
            [
             1,
             "#f0f921"
            ]
           ],
           "sequentialminus": [
            [
             0,
             "#0d0887"
            ],
            [
             0.1111111111111111,
             "#46039f"
            ],
            [
             0.2222222222222222,
             "#7201a8"
            ],
            [
             0.3333333333333333,
             "#9c179e"
            ],
            [
             0.4444444444444444,
             "#bd3786"
            ],
            [
             0.5555555555555556,
             "#d8576b"
            ],
            [
             0.6666666666666666,
             "#ed7953"
            ],
            [
             0.7777777777777778,
             "#fb9f3a"
            ],
            [
             0.8888888888888888,
             "#fdca26"
            ],
            [
             1,
             "#f0f921"
            ]
           ]
          },
          "colorway": [
           "#636efa",
           "#EF553B",
           "#00cc96",
           "#ab63fa",
           "#FFA15A",
           "#19d3f3",
           "#FF6692",
           "#B6E880",
           "#FF97FF",
           "#FECB52"
          ],
          "font": {
           "color": "#2a3f5f"
          },
          "geo": {
           "bgcolor": "white",
           "lakecolor": "white",
           "landcolor": "#E5ECF6",
           "showlakes": true,
           "showland": true,
           "subunitcolor": "white"
          },
          "hoverlabel": {
           "align": "left"
          },
          "hovermode": "closest",
          "mapbox": {
           "style": "light"
          },
          "paper_bgcolor": "white",
          "plot_bgcolor": "#E5ECF6",
          "polar": {
           "angularaxis": {
            "gridcolor": "white",
            "linecolor": "white",
            "ticks": ""
           },
           "bgcolor": "#E5ECF6",
           "radialaxis": {
            "gridcolor": "white",
            "linecolor": "white",
            "ticks": ""
           }
          },
          "scene": {
           "xaxis": {
            "backgroundcolor": "#E5ECF6",
            "gridcolor": "white",
            "gridwidth": 2,
            "linecolor": "white",
            "showbackground": true,
            "ticks": "",
            "zerolinecolor": "white"
           },
           "yaxis": {
            "backgroundcolor": "#E5ECF6",
            "gridcolor": "white",
            "gridwidth": 2,
            "linecolor": "white",
            "showbackground": true,
            "ticks": "",
            "zerolinecolor": "white"
           },
           "zaxis": {
            "backgroundcolor": "#E5ECF6",
            "gridcolor": "white",
            "gridwidth": 2,
            "linecolor": "white",
            "showbackground": true,
            "ticks": "",
            "zerolinecolor": "white"
           }
          },
          "shapedefaults": {
           "line": {
            "color": "#2a3f5f"
           }
          },
          "ternary": {
           "aaxis": {
            "gridcolor": "white",
            "linecolor": "white",
            "ticks": ""
           },
           "baxis": {
            "gridcolor": "white",
            "linecolor": "white",
            "ticks": ""
           },
           "bgcolor": "#E5ECF6",
           "caxis": {
            "gridcolor": "white",
            "linecolor": "white",
            "ticks": ""
           }
          },
          "title": {
           "x": 0.05
          },
          "xaxis": {
           "automargin": true,
           "gridcolor": "white",
           "linecolor": "white",
           "ticks": "",
           "title": {
            "standoff": 15
           },
           "zerolinecolor": "white",
           "zerolinewidth": 2
          },
          "yaxis": {
           "automargin": true,
           "gridcolor": "white",
           "linecolor": "white",
           "ticks": "",
           "title": {
            "standoff": 15
           },
           "zerolinecolor": "white",
           "zerolinewidth": 2
          }
         }
        },
        "title": {
         "text": "Korreláció az eszköz csoportja és az infláció között (áremelés)"
        },
        "width": 1000,
        "xaxis": {
         "anchor": "y",
         "domain": [
          0,
          1
         ]
        },
        "yaxis": {
         "anchor": "x",
         "autorange": "reversed",
         "domain": [
          0,
          1
         ]
        }
       }
      },
      "image/png": "[encoded data removed]"
     },
     "metadata": {},
     "output_type": "display_data"
    }
   ],
   "source": [
    "# korrelációs mátrix\n",
    "corr_bf_cs_matrix = df_corr_bf_cs[['bútor', 'járás/moped/kerekesszék/tájékozódás', \n",
    "                               'kötszer', 'látás/hallás/jeladás', \n",
    "                               'ortézis/protézis/ortopéd cipő', 'ruha/védelem/higiéné', \n",
    "                               'személyes gyógykezelés', 'Infláció']].corr()\n",
    "\n",
    "# korrelációs hőtérkép\n",
    "fig = px.imshow(corr_bf_cs_matrix, text_auto=True, aspect='auto',\n",
    "                labels=dict(color='Korreláció'),\n",
    "                x=corr_bf_cs_matrix.columns,\n",
    "                y=corr_bf_cs_matrix.columns,\n",
    "                width = 1000, height = 600,\n",
    "                title='Korreláció az eszköz csoportja és az infláció között (áremelés)',\n",
    "                color_continuous_scale=[(0.00, 'brown'), (0.50, 'white'), (1.00, 'purple')])\n",
    "\n",
    "fig.update_coloraxes(cmin=-1, cmax=1)\n",
    "\n",
    "fig.show()"
   ]
  },
  {
   "cell_type": "markdown",
   "metadata": {},
   "source": [
    "#### Törlésre irányuló kérelmek"
   ]
  },
  {
   "cell_type": "code",
   "execution_count": 27,
   "metadata": {},
   "outputs": [],
   "source": [
    "# korreláció számításához a törlésre irányuló kérelmek és az infláció előkészítése\n",
    "df_corr_bg_cs = (df_subm.loc[df_subm['Kérelem'] == 'törlés (bg)'].groupby(['Év', 'Csoport']).size().unstack(fill_value=0))\n",
    "df_corr_bg_cs = df_corr_bg_cs.merge(df_infl, how='inner', on='Év')"
   ]
  },
  {
   "cell_type": "code",
   "execution_count": 28,
   "metadata": {},
   "outputs": [
    {
     "data": {
      "application/vnd.plotly.v1+json": {
       "config": {
        "plotlyServerURL": "https://plot.ly"
       },
       "data": [
        {
         "coloraxis": "coloraxis",
         "hovertemplate": "x: %{x}<br>y: %{y}<br>Korreláció: %{z}<extra></extra>",
         "name": "0",
         "texttemplate": "%{z}",
         "type": "heatmap",
         "x": [
          "bútor",
          "járás/moped/kerekesszék/tájékozódás",
          "kötszer",
          "látás/hallás/jeladás",
          "ortézis/protézis/ortopéd cipő",
          "ruha/védelem/higiéné",
          "személyes gyógykezelés",
          "Infláció"
         ],
         "xaxis": "x",
         "y": [
          "bútor",
          "járás/moped/kerekesszék/tájékozódás",
          "kötszer",
          "látás/hallás/jeladás",
          "ortézis/protézis/ortopéd cipő",
          "ruha/védelem/higiéné",
          "személyes gyógykezelés",
          "Infláció"
         ],
         "yaxis": "y",
         "z": {
          "bdata": "AAAAAAAA8D8GQedebmLGv2SE4wjvNNG/DDEa/gjzu79IKdou3n7aP9unn5ySL9K/6JizlyCI0r/Btx690DrIPwZB515uYsa/AAAAAAAA8D9zI75ezw3iPycDnltWsbO/sG/xKzYD4D+MrmmLEY++P+gf9r1rotG/tFTWkK1Txb9khOMI7zTRv3Mjvl7PDeI/AAAAAAAA8D+JyUmzWP3OP1mYaKNEB6g/igFL96qqwj+HP2qkRRikP87brYjXaMQ/DDEa/gjzu78nA55bVrGzv4nJSbNY/c4/AAAAAAAA8D/ZdfEsG03Fv1bVAl0C1cS/BCaue2vptT9tbzjj9inBP0gp2i7efto/sG/xKzYD4D9ZmGijRAeoP9l18SwbTcW/AAAAAAAA8D/tRRpN6n2XPyL+9jLNPdG/RpYz0dX01T/bp5+cki/Sv4yuaYsRj74/igFL96qqwj9W1QJdAtXEv+1FGk3qfZc/AAAAAAAA8D9w19C7LdDkP3f9d9WNKOY/6JizlyCI0r/oH/a9a6LRv4c/aqRFGKQ/BCaue2vptT8i/vYyzT3Rv3DX0Lst0OQ/AAAAAAAA8D9dDrXeN6bfP8G3Hr3QOsg/tFTWkK1Txb/O262I12jEP21vOOP2KcE/RpYz0dX01T93/XfVjSjmP10Otd43pt8/AAAAAAAA8D8=",
          "dtype": "f8",
          "shape": "8, 8"
         }
        }
       ],
       "layout": {
        "coloraxis": {
         "cmax": 1,
         "cmin": -1,
         "colorbar": {
          "title": {
           "text": "Korreláció"
          }
         },
         "colorscale": [
          [
           0,
           "brown"
          ],
          [
           0.5,
           "white"
          ],
          [
           1,
           "purple"
          ]
         ]
        },
        "height": 600,
        "template": {
         "data": {
          "bar": [
           {
            "error_x": {
             "color": "#2a3f5f"
            },
            "error_y": {
             "color": "#2a3f5f"
            },
            "marker": {
             "line": {
              "color": "#E5ECF6",
              "width": 0.5
             },
             "pattern": {
              "fillmode": "overlay",
              "size": 10,
              "solidity": 0.2
             }
            },
            "type": "bar"
           }
          ],
          "barpolar": [
           {
            "marker": {
             "line": {
              "color": "#E5ECF6",
              "width": 0.5
             },
             "pattern": {
              "fillmode": "overlay",
              "size": 10,
              "solidity": 0.2
             }
            },
            "type": "barpolar"
           }
          ],
          "carpet": [
           {
            "aaxis": {
             "endlinecolor": "#2a3f5f",
             "gridcolor": "white",
             "linecolor": "white",
             "minorgridcolor": "white",
             "startlinecolor": "#2a3f5f"
            },
            "baxis": {
             "endlinecolor": "#2a3f5f",
             "gridcolor": "white",
             "linecolor": "white",
             "minorgridcolor": "white",
             "startlinecolor": "#2a3f5f"
            },
            "type": "carpet"
           }
          ],
          "choropleth": [
           {
            "colorbar": {
             "outlinewidth": 0,
             "ticks": ""
            },
            "type": "choropleth"
           }
          ],
          "contour": [
           {
            "colorbar": {
             "outlinewidth": 0,
             "ticks": ""
            },
            "colorscale": [
             [
              0,
              "#0d0887"
             ],
             [
              0.1111111111111111,
              "#46039f"
             ],
             [
              0.2222222222222222,
              "#7201a8"
             ],
             [
              0.3333333333333333,
              "#9c179e"
             ],
             [
              0.4444444444444444,
              "#bd3786"
             ],
             [
              0.5555555555555556,
              "#d8576b"
             ],
             [
              0.6666666666666666,
              "#ed7953"
             ],
             [
              0.7777777777777778,
              "#fb9f3a"
             ],
             [
              0.8888888888888888,
              "#fdca26"
             ],
             [
              1,
              "#f0f921"
             ]
            ],
            "type": "contour"
           }
          ],
          "contourcarpet": [
           {
            "colorbar": {
             "outlinewidth": 0,
             "ticks": ""
            },
            "type": "contourcarpet"
           }
          ],
          "heatmap": [
           {
            "colorbar": {
             "outlinewidth": 0,
             "ticks": ""
            },
            "colorscale": [
             [
              0,
              "#0d0887"
             ],
             [
              0.1111111111111111,
              "#46039f"
             ],
             [
              0.2222222222222222,
              "#7201a8"
             ],
             [
              0.3333333333333333,
              "#9c179e"
             ],
             [
              0.4444444444444444,
              "#bd3786"
             ],
             [
              0.5555555555555556,
              "#d8576b"
             ],
             [
              0.6666666666666666,
              "#ed7953"
             ],
             [
              0.7777777777777778,
              "#fb9f3a"
             ],
             [
              0.8888888888888888,
              "#fdca26"
             ],
             [
              1,
              "#f0f921"
             ]
            ],
            "type": "heatmap"
           }
          ],
          "histogram": [
           {
            "marker": {
             "pattern": {
              "fillmode": "overlay",
              "size": 10,
              "solidity": 0.2
             }
            },
            "type": "histogram"
           }
          ],
          "histogram2d": [
           {
            "colorbar": {
             "outlinewidth": 0,
             "ticks": ""
            },
            "colorscale": [
             [
              0,
              "#0d0887"
             ],
             [
              0.1111111111111111,
              "#46039f"
             ],
             [
              0.2222222222222222,
              "#7201a8"
             ],
             [
              0.3333333333333333,
              "#9c179e"
             ],
             [
              0.4444444444444444,
              "#bd3786"
             ],
             [
              0.5555555555555556,
              "#d8576b"
             ],
             [
              0.6666666666666666,
              "#ed7953"
             ],
             [
              0.7777777777777778,
              "#fb9f3a"
             ],
             [
              0.8888888888888888,
              "#fdca26"
             ],
             [
              1,
              "#f0f921"
             ]
            ],
            "type": "histogram2d"
           }
          ],
          "histogram2dcontour": [
           {
            "colorbar": {
             "outlinewidth": 0,
             "ticks": ""
            },
            "colorscale": [
             [
              0,
              "#0d0887"
             ],
             [
              0.1111111111111111,
              "#46039f"
             ],
             [
              0.2222222222222222,
              "#7201a8"
             ],
             [
              0.3333333333333333,
              "#9c179e"
             ],
             [
              0.4444444444444444,
              "#bd3786"
             ],
             [
              0.5555555555555556,
              "#d8576b"
             ],
             [
              0.6666666666666666,
              "#ed7953"
             ],
             [
              0.7777777777777778,
              "#fb9f3a"
             ],
             [
              0.8888888888888888,
              "#fdca26"
             ],
             [
              1,
              "#f0f921"
             ]
            ],
            "type": "histogram2dcontour"
           }
          ],
          "mesh3d": [
           {
            "colorbar": {
             "outlinewidth": 0,
             "ticks": ""
            },
            "type": "mesh3d"
           }
          ],
          "parcoords": [
           {
            "line": {
             "colorbar": {
              "outlinewidth": 0,
              "ticks": ""
             }
            },
            "type": "parcoords"
           }
          ],
          "pie": [
           {
            "automargin": true,
            "type": "pie"
           }
          ],
          "scatter": [
           {
            "fillpattern": {
             "fillmode": "overlay",
             "size": 10,
             "solidity": 0.2
            },
            "type": "scatter"
           }
          ],
          "scatter3d": [
           {
            "line": {
             "colorbar": {
              "outlinewidth": 0,
              "ticks": ""
             }
            },
            "marker": {
             "colorbar": {
              "outlinewidth": 0,
              "ticks": ""
             }
            },
            "type": "scatter3d"
           }
          ],
          "scattercarpet": [
           {
            "marker": {
             "colorbar": {
              "outlinewidth": 0,
              "ticks": ""
             }
            },
            "type": "scattercarpet"
           }
          ],
          "scattergeo": [
           {
            "marker": {
             "colorbar": {
              "outlinewidth": 0,
              "ticks": ""
             }
            },
            "type": "scattergeo"
           }
          ],
          "scattergl": [
           {
            "marker": {
             "colorbar": {
              "outlinewidth": 0,
              "ticks": ""
             }
            },
            "type": "scattergl"
           }
          ],
          "scattermap": [
           {
            "marker": {
             "colorbar": {
              "outlinewidth": 0,
              "ticks": ""
             }
            },
            "type": "scattermap"
           }
          ],
          "scattermapbox": [
           {
            "marker": {
             "colorbar": {
              "outlinewidth": 0,
              "ticks": ""
             }
            },
            "type": "scattermapbox"
           }
          ],
          "scatterpolar": [
           {
            "marker": {
             "colorbar": {
              "outlinewidth": 0,
              "ticks": ""
             }
            },
            "type": "scatterpolar"
           }
          ],
          "scatterpolargl": [
           {
            "marker": {
             "colorbar": {
              "outlinewidth": 0,
              "ticks": ""
             }
            },
            "type": "scatterpolargl"
           }
          ],
          "scatterternary": [
           {
            "marker": {
             "colorbar": {
              "outlinewidth": 0,
              "ticks": ""
             }
            },
            "type": "scatterternary"
           }
          ],
          "surface": [
           {
            "colorbar": {
             "outlinewidth": 0,
             "ticks": ""
            },
            "colorscale": [
             [
              0,
              "#0d0887"
             ],
             [
              0.1111111111111111,
              "#46039f"
             ],
             [
              0.2222222222222222,
              "#7201a8"
             ],
             [
              0.3333333333333333,
              "#9c179e"
             ],
             [
              0.4444444444444444,
              "#bd3786"
             ],
             [
              0.5555555555555556,
              "#d8576b"
             ],
             [
              0.6666666666666666,
              "#ed7953"
             ],
             [
              0.7777777777777778,
              "#fb9f3a"
             ],
             [
              0.8888888888888888,
              "#fdca26"
             ],
             [
              1,
              "#f0f921"
             ]
            ],
            "type": "surface"
           }
          ],
          "table": [
           {
            "cells": {
             "fill": {
              "color": "#EBF0F8"
             },
             "line": {
              "color": "white"
             }
            },
            "header": {
             "fill": {
              "color": "#C8D4E3"
             },
             "line": {
              "color": "white"
             }
            },
            "type": "table"
           }
          ]
         },
         "layout": {
          "annotationdefaults": {
           "arrowcolor": "#2a3f5f",
           "arrowhead": 0,
           "arrowwidth": 1
          },
          "autotypenumbers": "strict",
          "coloraxis": {
           "colorbar": {
            "outlinewidth": 0,
            "ticks": ""
           }
          },
          "colorscale": {
           "diverging": [
            [
             0,
             "#8e0152"
            ],
            [
             0.1,
             "#c51b7d"
            ],
            [
             0.2,
             "#de77ae"
            ],
            [
             0.3,
             "#f1b6da"
            ],
            [
             0.4,
             "#fde0ef"
            ],
            [
             0.5,
             "#f7f7f7"
            ],
            [
             0.6,
             "#e6f5d0"
            ],
            [
             0.7,
             "#b8e186"
            ],
            [
             0.8,
             "#7fbc41"
            ],
            [
             0.9,
             "#4d9221"
            ],
            [
             1,
             "#276419"
            ]
           ],
           "sequential": [
            [
             0,
             "#0d0887"
            ],
            [
             0.1111111111111111,
             "#46039f"
            ],
            [
             0.2222222222222222,
             "#7201a8"
            ],
            [
             0.3333333333333333,
             "#9c179e"
            ],
            [
             0.4444444444444444,
             "#bd3786"
            ],
            [
             0.5555555555555556,
             "#d8576b"
            ],
            [
             0.6666666666666666,
             "#ed7953"
            ],
            [
             0.7777777777777778,
             "#fb9f3a"
            ],
            [
             0.8888888888888888,
             "#fdca26"
            ],
            [
             1,
             "#f0f921"
            ]
           ],
           "sequentialminus": [
            [
             0,
             "#0d0887"
            ],
            [
             0.1111111111111111,
             "#46039f"
            ],
            [
             0.2222222222222222,
             "#7201a8"
            ],
            [
             0.3333333333333333,
             "#9c179e"
            ],
            [
             0.4444444444444444,
             "#bd3786"
            ],
            [
             0.5555555555555556,
             "#d8576b"
            ],
            [
             0.6666666666666666,
             "#ed7953"
            ],
            [
             0.7777777777777778,
             "#fb9f3a"
            ],
            [
             0.8888888888888888,
             "#fdca26"
            ],
            [
             1,
             "#f0f921"
            ]
           ]
          },
          "colorway": [
           "#636efa",
           "#EF553B",
           "#00cc96",
           "#ab63fa",
           "#FFA15A",
           "#19d3f3",
           "#FF6692",
           "#B6E880",
           "#FF97FF",
           "#FECB52"
          ],
          "font": {
           "color": "#2a3f5f"
          },
          "geo": {
           "bgcolor": "white",
           "lakecolor": "white",
           "landcolor": "#E5ECF6",
           "showlakes": true,
           "showland": true,
           "subunitcolor": "white"
          },
          "hoverlabel": {
           "align": "left"
          },
          "hovermode": "closest",
          "mapbox": {
           "style": "light"
          },
          "paper_bgcolor": "white",
          "plot_bgcolor": "#E5ECF6",
          "polar": {
           "angularaxis": {
            "gridcolor": "white",
            "linecolor": "white",
            "ticks": ""
           },
           "bgcolor": "#E5ECF6",
           "radialaxis": {
            "gridcolor": "white",
            "linecolor": "white",
            "ticks": ""
           }
          },
          "scene": {
           "xaxis": {
            "backgroundcolor": "#E5ECF6",
            "gridcolor": "white",
            "gridwidth": 2,
            "linecolor": "white",
            "showbackground": true,
            "ticks": "",
            "zerolinecolor": "white"
           },
           "yaxis": {
            "backgroundcolor": "#E5ECF6",
            "gridcolor": "white",
            "gridwidth": 2,
            "linecolor": "white",
            "showbackground": true,
            "ticks": "",
            "zerolinecolor": "white"
           },
           "zaxis": {
            "backgroundcolor": "#E5ECF6",
            "gridcolor": "white",
            "gridwidth": 2,
            "linecolor": "white",
            "showbackground": true,
            "ticks": "",
            "zerolinecolor": "white"
           }
          },
          "shapedefaults": {
           "line": {
            "color": "#2a3f5f"
           }
          },
          "ternary": {
           "aaxis": {
            "gridcolor": "white",
            "linecolor": "white",
            "ticks": ""
           },
           "baxis": {
            "gridcolor": "white",
            "linecolor": "white",
            "ticks": ""
           },
           "bgcolor": "#E5ECF6",
           "caxis": {
            "gridcolor": "white",
            "linecolor": "white",
            "ticks": ""
           }
          },
          "title": {
           "x": 0.05
          },
          "xaxis": {
           "automargin": true,
           "gridcolor": "white",
           "linecolor": "white",
           "ticks": "",
           "title": {
            "standoff": 15
           },
           "zerolinecolor": "white",
           "zerolinewidth": 2
          },
          "yaxis": {
           "automargin": true,
           "gridcolor": "white",
           "linecolor": "white",
           "ticks": "",
           "title": {
            "standoff": 15
           },
           "zerolinecolor": "white",
           "zerolinewidth": 2
          }
         }
        },
        "title": {
         "text": "Korreláció az eszköz csoportja és az infláció között (törlés)"
        },
        "width": 1000,
        "xaxis": {
         "anchor": "y",
         "domain": [
          0,
          1
         ]
        },
        "yaxis": {
         "anchor": "x",
         "autorange": "reversed",
         "domain": [
          0,
          1
         ]
        }
       }
      },
      "image/png": "[encoded data removed]"
     },
     "metadata": {},
     "output_type": "display_data"
    }
   ],
   "source": [
    "# korrelációs mátrix\n",
    "corr_bg_cs_matrix = df_corr_bg_cs[['bútor', 'járás/moped/kerekesszék/tájékozódás', \n",
    "                               'kötszer', 'látás/hallás/jeladás', \n",
    "                               'ortézis/protézis/ortopéd cipő', 'ruha/védelem/higiéné', \n",
    "                               'személyes gyógykezelés', 'Infláció']].corr()\n",
    "\n",
    "# korrelációs hőtérkép\n",
    "fig = px.imshow(corr_bg_cs_matrix, text_auto=True, aspect='auto',\n",
    "                labels=dict(color='Korreláció'),\n",
    "                x=corr_bg_cs_matrix.columns,\n",
    "                y=corr_bg_cs_matrix.columns,\n",
    "                width = 1000, height = 600,\n",
    "                title='Korreláció az eszköz csoportja és az infláció között (törlés)',\n",
    "                color_continuous_scale=[(0.00, 'brown'), (0.50, 'white'), (1.00, 'purple')])\n",
    "\n",
    "fig.update_coloraxes(cmin=-1, cmax=1)\n",
    "\n",
    "fig.show()"
   ]
  },
  {
   "cell_type": "markdown",
   "metadata": {},
   "source": [
    "#### Áremelési kérelmet követő törlés (feltételezett elutasítás esetén)"
   ]
  },
  {
   "cell_type": "code",
   "execution_count": 29,
   "metadata": {},
   "outputs": [
    {
     "data": {
      "text/html": [
       "<div>\n",
       "<style scoped>\n",
       "    .dataframe tbody tr th:only-of-type {\n",
       "        vertical-align: middle;\n",
       "    }\n",
       "\n",
       "    .dataframe tbody tr th {\n",
       "        vertical-align: top;\n",
       "    }\n",
       "\n",
       "    .dataframe thead th {\n",
       "        text-align: right;\n",
       "    }\n",
       "</style>\n",
       "<table border=\"1\" class=\"dataframe\">\n",
       "  <thead>\n",
       "    <tr style=\"text-align: right;\">\n",
       "      <th></th>\n",
       "      <th>Eszköz</th>\n",
       "      <th>Csoport</th>\n",
       "    </tr>\n",
       "  </thead>\n",
       "  <tbody>\n",
       "    <tr>\n",
       "      <th>0</th>\n",
       "      <td>Mesorb 23 x 30 cm (Hasznos méret: 20 x 30 cm) ...</td>\n",
       "      <td>kötszer</td>\n",
       "    </tr>\n",
       "    <tr>\n",
       "      <th>1</th>\n",
       "      <td>Tena Flex Plus S (1190 ml) nadrágpelenka</td>\n",
       "      <td>ruha/védelem/higiéné</td>\n",
       "    </tr>\n",
       "    <tr>\n",
       "      <th>2</th>\n",
       "      <td>Tena Flex Plus XL (1990 ml) nadrágpelenka</td>\n",
       "      <td>ruha/védelem/higiéné</td>\n",
       "    </tr>\n",
       "    <tr>\n",
       "      <th>6</th>\n",
       "      <td>Anita Compression melltartó</td>\n",
       "      <td>ruha/védelem/higiéné</td>\n",
       "    </tr>\n",
       "    <tr>\n",
       "      <th>7</th>\n",
       "      <td>Seni Soft Super egyszerhasználatos antidecubit...</td>\n",
       "      <td>bútor</td>\n",
       "    </tr>\n",
       "    <tr>\n",
       "      <th>8</th>\n",
       "      <td>Seni Soft Super egyszerhasználatos antidecubit...</td>\n",
       "      <td>bútor</td>\n",
       "    </tr>\n",
       "    <tr>\n",
       "      <th>11</th>\n",
       "      <td>Grassolind kenőcstüll 7,5 x 10 cm kötszer</td>\n",
       "      <td>kötszer</td>\n",
       "    </tr>\n",
       "    <tr>\n",
       "      <th>12</th>\n",
       "      <td>Grassolind kenőcstüll 7,5 x 10 cm kötszer</td>\n",
       "      <td>kötszer</td>\n",
       "    </tr>\n",
       "    <tr>\n",
       "      <th>14</th>\n",
       "      <td>Nelaton Norta 100% szilikon ballon katéter, 10...</td>\n",
       "      <td>ruha/védelem/higiéné</td>\n",
       "    </tr>\n",
       "  </tbody>\n",
       "</table>\n",
       "</div>"
      ],
      "text/plain": [
       "                                               Eszköz               Csoport\n",
       "0   Mesorb 23 x 30 cm (Hasznos méret: 20 x 30 cm) ...               kötszer\n",
       "1            Tena Flex Plus S (1190 ml) nadrágpelenka  ruha/védelem/higiéné\n",
       "2           Tena Flex Plus XL (1990 ml) nadrágpelenka  ruha/védelem/higiéné\n",
       "6                         Anita Compression melltartó  ruha/védelem/higiéné\n",
       "7   Seni Soft Super egyszerhasználatos antidecubit...                 bútor\n",
       "8   Seni Soft Super egyszerhasználatos antidecubit...                 bútor\n",
       "11          Grassolind kenőcstüll 7,5 x 10 cm kötszer               kötszer\n",
       "12          Grassolind kenőcstüll 7,5 x 10 cm kötszer               kötszer\n",
       "14  Nelaton Norta 100% szilikon ballon katéter, 10...  ruha/védelem/higiéné"
      ]
     },
     "execution_count": 29,
     "metadata": {},
     "output_type": "execute_result"
    }
   ],
   "source": [
    "# áremelési kérelmet követő törlés 1 éven belül\n",
    "df_bf_bg = df_subm[['Eszköz', 'Év', 'Csoport']][df_subm['Kérelem'] == 'áremelés (bf)'].merge(df_subm[['Eszköz', 'Év']][df_subm['Kérelem'] == 'törlés (bg)'], \n",
    "                                                                                             how = 'inner', on ='Eszköz', suffixes=('_bf', '_bg'))\n",
    "df_bf_bg[['Eszköz', 'Csoport']][((df_bf_bg['Év_bg'] - df_bf_bg['Év_bf']))<=1]"
   ]
  },
  {
   "cell_type": "markdown",
   "metadata": {},
   "source": [
    "#### Árérzékeny kérelmezők vizsgálata"
   ]
  },
  {
   "cell_type": "code",
   "execution_count": 30,
   "metadata": {},
   "outputs": [
    {
     "data": {
      "text/html": [
       "<div>\n",
       "<style scoped>\n",
       "    .dataframe tbody tr th:only-of-type {\n",
       "        vertical-align: middle;\n",
       "    }\n",
       "\n",
       "    .dataframe tbody tr th {\n",
       "        vertical-align: top;\n",
       "    }\n",
       "\n",
       "    .dataframe thead th {\n",
       "        text-align: right;\n",
       "    }\n",
       "</style>\n",
       "<table border=\"1\" class=\"dataframe\">\n",
       "  <thead>\n",
       "    <tr style=\"text-align: right;\">\n",
       "      <th></th>\n",
       "      <th>Kérelmező</th>\n",
       "      <th>Korreláció</th>\n",
       "    </tr>\n",
       "  </thead>\n",
       "  <tbody>\n",
       "    <tr>\n",
       "      <th>4</th>\n",
       "      <td>TZMO Hungary Kft.</td>\n",
       "      <td>0.709847</td>\n",
       "    </tr>\n",
       "  </tbody>\n",
       "</table>\n",
       "</div>"
      ],
      "text/plain": [
       "           Kérelmező  Korreláció\n",
       "4  TZMO Hungary Kft.    0.709847"
      ]
     },
     "execution_count": 30,
     "metadata": {},
     "output_type": "execute_result"
    }
   ],
   "source": [
    "# áremelésre irányuló kérelmek alakulása kérelmező szerint és az infláció alakulása közötti összefüggés\n",
    "df_ceg_bf = df_subm[['Kérelmező', 'Év', 'Csoport']][df_subm['Kérelem'] == 'áremelés (bf)'].groupby(['Kérelmező', 'Év']).count().reset_index()\n",
    "df_ceg_bf = df_ceg_bf.merge(df_infl, on = 'Év', how = 'left')\n",
    "\n",
    "# kérelmezők kiszűrése a korreláció számításához, akik legalább 3 évben nyújtottak be áremelési kérelmet\n",
    "df_ceg_bf_filtered = df_ceg_bf[df_ceg_bf.groupby('Kérelmező')['Csoport'].transform('size') >= 3]\n",
    "\n",
    "# korreláció számítása\n",
    "corr_ceg_bf = df_ceg_bf_filtered.groupby('Kérelmező')[['Csoport', 'Infláció']].corr().loc[pd.IndexSlice[:, 'Csoport'], 'Infláció']\n",
    "df_ceg_bf = corr_ceg_bf.reset_index()\n",
    "df_ceg_bf.columns = ['Kérelmező', 'Kérelem', 'Korreláció']\n",
    "\n",
    "# erős pozitív (árérzékeny) kérelmezők szűrése\n",
    "df_ceg_bf = df_ceg_bf[['Kérelmező', 'Korreláció']][df_ceg_bf['Korreláció'] >= 0.7]\n",
    "df_ceg_bf"
   ]
  },
  {
   "cell_type": "code",
   "execution_count": 31,
   "metadata": {},
   "outputs": [
    {
     "data": {
      "text/html": [
       "<div>\n",
       "<style scoped>\n",
       "    .dataframe tbody tr th:only-of-type {\n",
       "        vertical-align: middle;\n",
       "    }\n",
       "\n",
       "    .dataframe tbody tr th {\n",
       "        vertical-align: top;\n",
       "    }\n",
       "\n",
       "    .dataframe thead th {\n",
       "        text-align: right;\n",
       "    }\n",
       "</style>\n",
       "<table border=\"1\" class=\"dataframe\">\n",
       "  <thead>\n",
       "    <tr style=\"text-align: right;\">\n",
       "      <th></th>\n",
       "      <th>Kérelmező</th>\n",
       "      <th>Csoport</th>\n",
       "      <th>Kérelem</th>\n",
       "    </tr>\n",
       "  </thead>\n",
       "  <tbody>\n",
       "    <tr>\n",
       "      <th>0</th>\n",
       "      <td>TZMO Hungary Kft.</td>\n",
       "      <td>kötszer</td>\n",
       "      <td>2</td>\n",
       "    </tr>\n",
       "    <tr>\n",
       "      <th>1</th>\n",
       "      <td>TZMO Hungary Kft.</td>\n",
       "      <td>ruha/védelem/higiéné</td>\n",
       "      <td>56</td>\n",
       "    </tr>\n",
       "  </tbody>\n",
       "</table>\n",
       "</div>"
      ],
      "text/plain": [
       "           Kérelmező               Csoport  Kérelem\n",
       "0  TZMO Hungary Kft.               kötszer        2\n",
       "1  TZMO Hungary Kft.  ruha/védelem/higiéné       56"
      ]
     },
     "execution_count": 31,
     "metadata": {},
     "output_type": "execute_result"
    }
   ],
   "source": [
    "# árérzékeny kérelmezők kérelmei az eszköz csoportja szerint\n",
    "df_bf = df_subm[['Kérelmező', 'Kérelem', 'Csoport']][df_subm['Kérelem'] == 'áremelés (bf)'].merge(df_ceg_bf, on='Kérelmező', how = 'inner')\n",
    "df_bf.groupby(['Kérelmező', 'Csoport']).count()['Kérelem'].reset_index()"
   ]
  },
  {
   "cell_type": "code",
   "execution_count": 32,
   "metadata": {},
   "outputs": [
    {
     "data": {
      "text/html": [
       "<div>\n",
       "<style scoped>\n",
       "    .dataframe tbody tr th:only-of-type {\n",
       "        vertical-align: middle;\n",
       "    }\n",
       "\n",
       "    .dataframe tbody tr th {\n",
       "        vertical-align: top;\n",
       "    }\n",
       "\n",
       "    .dataframe thead th {\n",
       "        text-align: right;\n",
       "    }\n",
       "</style>\n",
       "<table border=\"1\" class=\"dataframe\">\n",
       "  <thead>\n",
       "    <tr style=\"text-align: right;\">\n",
       "      <th></th>\n",
       "      <th>Kérelmező</th>\n",
       "      <th>Korreláció</th>\n",
       "    </tr>\n",
       "  </thead>\n",
       "  <tbody>\n",
       "    <tr>\n",
       "      <th>4</th>\n",
       "      <td>Csuti Gyógyászati Segédeszköz Kft.</td>\n",
       "      <td>0.710440</td>\n",
       "    </tr>\n",
       "    <tr>\n",
       "      <th>5</th>\n",
       "      <td>Di-Care Zrt.</td>\n",
       "      <td>1.000000</td>\n",
       "    </tr>\n",
       "    <tr>\n",
       "      <th>10</th>\n",
       "      <td>Lohmann &amp; Rauscher Hungary Kft.</td>\n",
       "      <td>1.000000</td>\n",
       "    </tr>\n",
       "    <tr>\n",
       "      <th>14</th>\n",
       "      <td>Medtronic Hungária Kft.</td>\n",
       "      <td>1.000000</td>\n",
       "    </tr>\n",
       "    <tr>\n",
       "      <th>17</th>\n",
       "      <td>Otto Bock Hungária Kft.</td>\n",
       "      <td>1.000000</td>\n",
       "    </tr>\n",
       "    <tr>\n",
       "      <th>20</th>\n",
       "      <td>Replant 4 Care Kft.</td>\n",
       "      <td>0.964996</td>\n",
       "    </tr>\n",
       "    <tr>\n",
       "      <th>21</th>\n",
       "      <td>SALUS Orthopedtechnika Kft.</td>\n",
       "      <td>1.000000</td>\n",
       "    </tr>\n",
       "  </tbody>\n",
       "</table>\n",
       "</div>"
      ],
      "text/plain": [
       "                             Kérelmező  Korreláció\n",
       "4   Csuti Gyógyászati Segédeszköz Kft.    0.710440\n",
       "5                         Di-Care Zrt.    1.000000\n",
       "10     Lohmann & Rauscher Hungary Kft.    1.000000\n",
       "14             Medtronic Hungária Kft.    1.000000\n",
       "17             Otto Bock Hungária Kft.    1.000000\n",
       "20                 Replant 4 Care Kft.    0.964996\n",
       "21         SALUS Orthopedtechnika Kft.    1.000000"
      ]
     },
     "execution_count": 32,
     "metadata": {},
     "output_type": "execute_result"
    }
   ],
   "source": [
    "# törlésre irányuló kérelmek alakulása kérelmező szerint és az infláció alakulása közötti összefüggés\n",
    "df_ceg_bg = df_subm[['Kérelmező', 'Év', 'Kérelem']][df_subm['Kérelem'] == 'törlés (bg)'].groupby(['Kérelmező', 'Év']).count().reset_index()\n",
    "df_ceg_bg = df_ceg_bg.merge(df_infl, on = 'Év', how = 'left')\n",
    "\n",
    "# kérelmezők kiszűrése a korreláció számításához, akik legalább 3 évben nyújtottak be törlési kérelmet\n",
    "df_ceg_bg_filtered = df_ceg_bg[df_ceg_bg.groupby('Kérelmező')['Kérelem'].transform('size') >= 3]\n",
    "\n",
    "# korreláció számítása\n",
    "corr_ceg_bg = df_ceg_bg_filtered.groupby('Kérelmező')[['Kérelem', 'Infláció']].corr().loc[pd.IndexSlice[:, 'Kérelem'], 'Infláció']\n",
    "df_ceg_bg = corr_ceg_bg.reset_index()\n",
    "df_ceg_bg.columns = ['Kérelmező', 'Kérelem', 'Korreláció']\n",
    "\n",
    "# erős pozitív kapcsolatot mutató kérelmezők szűrése\n",
    "df_ceg_bg = df_ceg_bg[['Kérelmező', 'Korreláció']][df_ceg_bg['Korreláció'] >= 0.7]\n",
    "df_ceg_bg"
   ]
  },
  {
   "cell_type": "code",
   "execution_count": 33,
   "metadata": {},
   "outputs": [
    {
     "data": {
      "text/html": [
       "<div>\n",
       "<style scoped>\n",
       "    .dataframe tbody tr th:only-of-type {\n",
       "        vertical-align: middle;\n",
       "    }\n",
       "\n",
       "    .dataframe tbody tr th {\n",
       "        vertical-align: top;\n",
       "    }\n",
       "\n",
       "    .dataframe thead th {\n",
       "        text-align: right;\n",
       "    }\n",
       "</style>\n",
       "<table border=\"1\" class=\"dataframe\">\n",
       "  <thead>\n",
       "    <tr style=\"text-align: right;\">\n",
       "      <th></th>\n",
       "      <th>Kérelmező</th>\n",
       "      <th>Csoport</th>\n",
       "      <th>Kérelem</th>\n",
       "    </tr>\n",
       "  </thead>\n",
       "  <tbody>\n",
       "    <tr>\n",
       "      <th>0</th>\n",
       "      <td>Csuti Gyógyászati Segédeszköz Kft.</td>\n",
       "      <td>ruha/védelem/higiéné</td>\n",
       "      <td>13</td>\n",
       "    </tr>\n",
       "    <tr>\n",
       "      <th>1</th>\n",
       "      <td>Di-Care Zrt.</td>\n",
       "      <td>látás/hallás/jeladás</td>\n",
       "      <td>3</td>\n",
       "    </tr>\n",
       "    <tr>\n",
       "      <th>2</th>\n",
       "      <td>Di-Care Zrt.</td>\n",
       "      <td>személyes gyógykezelés</td>\n",
       "      <td>1</td>\n",
       "    </tr>\n",
       "    <tr>\n",
       "      <th>3</th>\n",
       "      <td>Lohmann &amp; Rauscher Hungary Kft.</td>\n",
       "      <td>kötszer</td>\n",
       "      <td>9</td>\n",
       "    </tr>\n",
       "    <tr>\n",
       "      <th>4</th>\n",
       "      <td>Lohmann &amp; Rauscher Hungary Kft.</td>\n",
       "      <td>személyes gyógykezelés</td>\n",
       "      <td>15</td>\n",
       "    </tr>\n",
       "    <tr>\n",
       "      <th>5</th>\n",
       "      <td>Medtronic Hungária Kft.</td>\n",
       "      <td>látás/hallás/jeladás</td>\n",
       "      <td>3</td>\n",
       "    </tr>\n",
       "    <tr>\n",
       "      <th>6</th>\n",
       "      <td>Medtronic Hungária Kft.</td>\n",
       "      <td>személyes gyógykezelés</td>\n",
       "      <td>2</td>\n",
       "    </tr>\n",
       "    <tr>\n",
       "      <th>7</th>\n",
       "      <td>Otto Bock Hungária Kft.</td>\n",
       "      <td>járás/moped/kerekesszék/tájékozódás</td>\n",
       "      <td>6</td>\n",
       "    </tr>\n",
       "    <tr>\n",
       "      <th>8</th>\n",
       "      <td>Otto Bock Hungária Kft.</td>\n",
       "      <td>ortézis/protézis/ortopéd cipő</td>\n",
       "      <td>2</td>\n",
       "    </tr>\n",
       "    <tr>\n",
       "      <th>9</th>\n",
       "      <td>Replant 4 Care Kft.</td>\n",
       "      <td>evés/ivás</td>\n",
       "      <td>2</td>\n",
       "    </tr>\n",
       "    <tr>\n",
       "      <th>10</th>\n",
       "      <td>Replant 4 Care Kft.</td>\n",
       "      <td>kötszer</td>\n",
       "      <td>12</td>\n",
       "    </tr>\n",
       "    <tr>\n",
       "      <th>11</th>\n",
       "      <td>Replant 4 Care Kft.</td>\n",
       "      <td>ruha/védelem/higiéné</td>\n",
       "      <td>129</td>\n",
       "    </tr>\n",
       "    <tr>\n",
       "      <th>12</th>\n",
       "      <td>SALUS Orthopedtechnika Kft.</td>\n",
       "      <td>ruha/védelem/higiéné</td>\n",
       "      <td>58</td>\n",
       "    </tr>\n",
       "  </tbody>\n",
       "</table>\n",
       "</div>"
      ],
      "text/plain": [
       "                             Kérelmező                              Csoport  \\\n",
       "0   Csuti Gyógyászati Segédeszköz Kft.                 ruha/védelem/higiéné   \n",
       "1                         Di-Care Zrt.                 látás/hallás/jeladás   \n",
       "2                         Di-Care Zrt.               személyes gyógykezelés   \n",
       "3      Lohmann & Rauscher Hungary Kft.                              kötszer   \n",
       "4      Lohmann & Rauscher Hungary Kft.               személyes gyógykezelés   \n",
       "5              Medtronic Hungária Kft.                 látás/hallás/jeladás   \n",
       "6              Medtronic Hungária Kft.               személyes gyógykezelés   \n",
       "7              Otto Bock Hungária Kft.  járás/moped/kerekesszék/tájékozódás   \n",
       "8              Otto Bock Hungária Kft.        ortézis/protézis/ortopéd cipő   \n",
       "9                  Replant 4 Care Kft.                            evés/ivás   \n",
       "10                 Replant 4 Care Kft.                              kötszer   \n",
       "11                 Replant 4 Care Kft.                 ruha/védelem/higiéné   \n",
       "12         SALUS Orthopedtechnika Kft.                 ruha/védelem/higiéné   \n",
       "\n",
       "    Kérelem  \n",
       "0        13  \n",
       "1         3  \n",
       "2         1  \n",
       "3         9  \n",
       "4        15  \n",
       "5         3  \n",
       "6         2  \n",
       "7         6  \n",
       "8         2  \n",
       "9         2  \n",
       "10       12  \n",
       "11      129  \n",
       "12       58  "
      ]
     },
     "execution_count": 33,
     "metadata": {},
     "output_type": "execute_result"
    }
   ],
   "source": [
    "# a törlés és az infláció között pozitív erős kapcsolatot mutató kérelmezők kérelmei az eszköz csoportja szerint\n",
    "df_bg = df_subm[['Kérelmező', 'Kérelem', 'Csoport']][df_subm['Kérelem'] == 'törlés (bg)'].merge(df_ceg_bg, on='Kérelmező', how = 'inner')\n",
    "df_bg.groupby(['Kérelmező', 'Csoport']).count()['Kérelem'].reset_index()"
   ]
  }
 ],
 "metadata": {
  "colab": {
   "provenance": []
  },
  "kernelspec": {
   "display_name": "Python 3 (ipykernel)",
   "language": "python",
   "name": "python3"
  },
  "language_info": {
   "codemirror_mode": {
    "name": "ipython",
    "version": 3
   },
   "file_extension": ".py",
   "mimetype": "text/x-python",
   "name": "python",
   "nbconvert_exporter": "python",
   "pygments_lexer": "ipython3",
   "version": "3.8.10"
  }
 },
 "nbformat": 4,
 "nbformat_minor": 4
}
